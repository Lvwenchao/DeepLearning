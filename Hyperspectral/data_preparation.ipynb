{
 "cells": [
  {
   "cell_type": "code",
   "execution_count": 18,
   "metadata": {
    "collapsed": true
   },
   "outputs": [],
   "source": [
    "import scipy.io as sio\n",
    "import numpy as np\n",
    "import os\n",
    "from Hyperspectral.patchsize import patch_size\n",
    "from random import shuffle"
   ]
  },
  {
   "cell_type": "markdown",
   "source": [
    "**1. 加载数据**"
   ],
   "metadata": {
    "collapsed": false,
    "pycharm": {
     "name": "#%% md\n"
    }
   }
  },
  {
   "cell_type": "code",
   "execution_count": 19,
   "outputs": [
    {
     "name": "stdout",
     "output_type": "stream",
     "text": [
      "data: (145, 145, 220) (145, 145) 0 16\n"
     ]
    }
   ],
   "source": [
    "data_path = os.path.join(\"E:\\\\pythonProject\\\\DeepLearning\", r'resources\\data')\n",
    "input_data = sio.loadmat(os.path.join(data_path, 'Indian_pines.mat'))['indian_pines']\n",
    "out_data = sio.loadmat(os.path.join(data_path, 'Indian_pines_gt.mat'))['indian_pines_gt']\n",
    "print(\"data:\", input_data.shape, out_data.shape, np.min(out_data), np.max(out_data))"
   ],
   "metadata": {
    "collapsed": false,
    "pycharm": {
     "name": "#%%\n"
    }
   }
  },
  {
   "cell_type": "code",
   "execution_count": 20,
   "outputs": [],
   "source": [
    "height = input_data.shape[0]\n",
    "width = input_data.shape[1]\n",
    "band = input_data.shape[2]\n",
    "classes = 16"
   ],
   "metadata": {
    "collapsed": false,
    "pycharm": {
     "name": "#%%\n"
    }
   }
  },
  {
   "cell_type": "code",
   "execution_count": 21,
   "outputs": [
    {
     "data": {
      "text/plain": "11"
     },
     "execution_count": 21,
     "metadata": {},
     "output_type": "execute_result"
    }
   ],
   "source": [
    "patch_size"
   ],
   "metadata": {
    "collapsed": false,
    "pycharm": {
     "name": "#%%\n"
    }
   }
  },
  {
   "cell_type": "markdown",
   "source": [
    "**2. 图像归一化**"
   ],
   "metadata": {
    "collapsed": false
   }
  },
  {
   "cell_type": "code",
   "execution_count": 22,
   "outputs": [
    {
     "name": "stdout",
     "output_type": "stream",
     "text": [
      "normalization data: [ 0.0 - 1.0 ]\n"
     ]
    }
   ],
   "source": [
    "\n",
    "input_data = input_data.astype(float)\n",
    "input_data -= np.min(input_data)\n",
    "input_data /= np.max(input_data)\n",
    "\n",
    "print(\"normalization data: [\",np.min(input_data),'-',np.max(input_data),']')"
   ],
   "metadata": {
    "collapsed": false,
    "pycharm": {
     "name": "#%%\n"
    }
   }
  },
  {
   "cell_type": "markdown",
   "source": [
    "**3.图像去均值**"
   ],
   "metadata": {
    "collapsed": false
   }
  },
  {
   "cell_type": "code",
   "execution_count": 23,
   "outputs": [
    {
     "name": "stdout",
     "output_type": "stream",
     "text": [
      "mean_value: 220\n"
     ]
    }
   ],
   "source": [
    "mean_array = np.ndarray(shape=(band,),dtype=float)\n",
    "for i in range(band):\n",
    "    mean_array[i]=np.mean(input_data[:,:,i])\n",
    "\n",
    "print(\"mean_value:\", len(mean_array))\n",
    "\n",
    "# 将数据的均值归0化，进行图像分块"
   ],
   "metadata": {
    "collapsed": false,
    "pycharm": {
     "name": "#%%\n"
    }
   }
  },
  {
   "cell_type": "code",
   "execution_count": 24,
   "outputs": [],
   "source": [
    "def patch(i,j):\n",
    "    trans_img=np.transpose(input_data,(2,0,1))\n",
    "    patch=trans_img[:,i:i+patch_size,j:j+patch_size]\n",
    "    mean_norm_patch=[]\n",
    "    for i in range(band):\n",
    "        mean_norm_patch.append(patch[i]-mean_array[i])\n",
    "\n",
    "    return np.array(mean_norm_patch)\n"
   ],
   "metadata": {
    "collapsed": false,
    "pycharm": {
     "name": "#%%\n"
    }
   }
  },
  {
   "cell_type": "markdown",
   "source": [
    "**4. 返回每个类的patch**"
   ],
   "metadata": {
    "collapsed": false
   }
  },
  {
   "cell_type": "code",
   "execution_count": 25,
   "outputs": [],
   "source": [
    "\n",
    "ClASSES=[]\n",
    "for i in range(classes):\n",
    "    ClASSES.append([])\n",
    "for i in range(height-patch_size+1):\n",
    "    for j in range(width-patch_size+1):\n",
    "        patch_data=patch(i,j)\n",
    "        curr_out=out_data[i+int((patch_size-1)/2),j+int((patch_size-1)/2)]\n",
    "        if curr_out!=0:\n",
    "            ClASSES[curr_out-1].append(patch_data)"
   ],
   "metadata": {
    "collapsed": false,
    "pycharm": {
     "name": "#%%\n"
    }
   }
  },
  {
   "cell_type": "code",
   "execution_count": 26,
   "outputs": [
    {
     "name": "stdout",
     "output_type": "stream",
     "text": [
      "46\n",
      "1428\n",
      "685\n",
      "221\n",
      "423\n",
      "730\n",
      "28\n",
      "478\n",
      "20\n",
      "924\n",
      "2350\n",
      "561\n",
      "205\n",
      "1265\n",
      "265\n",
      "93\n"
     ]
    }
   ],
   "source": [
    "for c in ClASSES:\n",
    "    print(len(c))"
   ],
   "metadata": {
    "collapsed": false,
    "pycharm": {
     "name": "#%%\n"
    }
   }
  },
  {
   "cell_type": "markdown",
   "source": [
    "**5. test 数据和train_数据的划分**\n"
   ],
   "metadata": {
    "collapsed": false
   }
  },
  {
   "cell_type": "code",
   "execution_count": 27,
   "outputs": [
    {
     "name": "stdout",
     "output_type": "stream",
     "text": [
      "35\n",
      "1071\n",
      "514\n",
      "166\n",
      "318\n",
      "548\n",
      "21\n",
      "359\n",
      "15\n",
      "693\n",
      "1763\n",
      "421\n",
      "154\n",
      "949\n",
      "199\n",
      "70\n"
     ]
    }
   ],
   "source": [
    "test_split_size=0.25\n",
    "train_patch=[]\n",
    "test_patch=[]\n",
    "test_label=[]\n",
    "\n",
    "for c in range(classes):\n",
    "    test_frac=int(len(ClASSES[c])*test_split_size)\n",
    "    train_patch.append(ClASSES[c][:-test_frac])\n",
    "    test_patch.extend(ClASSES[c][-test_frac:])\n",
    "    test_label.extend(np.full(test_frac,c,dtype=int))\n",
    "\n",
    "for c in range(classes):\n",
    "    print(len(train_patch[c]))"
   ],
   "metadata": {
    "collapsed": false,
    "pycharm": {
     "name": "#%%\n"
    }
   }
  },
  {
   "cell_type": "code",
   "execution_count": 28,
   "outputs": [
    {
     "name": "stdout",
     "output_type": "stream",
     "text": [
      "2426 2426\n"
     ]
    }
   ],
   "source": [
    "print(len(test_patch),len(test_label))"
   ],
   "metadata": {
    "collapsed": false,
    "pycharm": {
     "name": "#%%\n"
    }
   }
  },
  {
   "cell_type": "markdown",
   "source": [
    "**6. oversamle the train_data to balance the train_data**"
   ],
   "metadata": {
    "collapsed": false,
    "pycharm": {
     "name": "#%% md\n"
    }
   }
  },
  {
   "cell_type": "code",
   "execution_count": 29,
   "outputs": [],
   "source": [
    "COUNT=200\n",
    "for c in range(classes):\n",
    "    if len(train_patch[c])<COUNT:\n",
    "        temp=train_patch[c]\n",
    "        for i in range(int(COUNT/len(temp))):\n",
    "            shuffle(train_patch[c])\n",
    "            train_patch[c]=train_patch[c]+temp\n",
    "    shuffle(train_patch[c])\n",
    "    train_patch[c]=train_patch[c][:COUNT]\n",
    "\n",
    "\n",
    "train_patch=np.reshape(np.asarray(train_patch),(-1,220,patch_size,patch_size))"
   ],
   "metadata": {
    "collapsed": false,
    "pycharm": {
     "name": "#%%\n"
    }
   }
  },
  {
   "cell_type": "markdown",
   "source": [
    "**7. 建立train_label**"
   ],
   "metadata": {
    "collapsed": false,
    "pycharm": {
     "name": "#%% md\n"
    }
   }
  },
  {
   "cell_type": "code",
   "execution_count": 30,
   "outputs": [
    {
     "name": "stdout",
     "output_type": "stream",
     "text": [
      "train_data: (3200, 220, 11, 11) train_label： (3200,)\n"
     ]
    }
   ],
   "source": [
    "train_labels=np.array([])\n",
    "for c in range(classes):\n",
    "    train_labels=np.append(train_labels,np.full(COUNT,c,dtype=int))\n",
    "\n",
    "print(\"train_data:\",train_patch.shape,\"train_label：\",train_labels.shape)"
   ],
   "metadata": {
    "collapsed": false,
    "pycharm": {
     "name": "#%%\n"
    }
   }
  },
  {
   "cell_type": "markdown",
   "source": [
    "**8. 保存训练数据和test数据**\n"
   ],
   "metadata": {
    "collapsed": false,
    "pycharm": {
     "name": "#%% md\n"
    }
   }
  },
  {
   "cell_type": "code",
   "execution_count": 31,
   "outputs": [],
   "source": [
    "for i in range(int(train_patch.shape[0]/(COUNT*2))):\n",
    "    data_dict={}\n",
    "    start=i*COUNT*2\n",
    "    end=(i+1)*COUNT*2\n",
    "    filename=\"train_\"+str(patch_size)+'_'+str(i+1)+\".mat\"\n",
    "    data_dict['train_data']=train_patch[start:end]\n",
    "    data_dict['train_label']=train_labels[start:end]\n",
    "    sio.savemat(os.path.join(data_path,filename),data_dict)\n",
    "\n",
    "for i in range(int(len(test_patch)/(COUNT*2))):\n",
    "    data_dict={}\n",
    "    start=i*COUNT*2\n",
    "    end=(i+1)*COUNT*2\n",
    "    filename=\"test_\"+str(patch_size)+'_'+str(i+1)+\".mat\"\n",
    "    data_dict['test_data']=train_patch[start:end]\n",
    "    data_dict['test_label']=train_labels[start:end]\n",
    "    sio.savemat(os.path.join(data_path,filename),data_dict)"
   ],
   "metadata": {
    "collapsed": false,
    "pycharm": {
     "name": "#%%\n"
    }
   }
  },
  {
   "cell_type": "markdown",
   "source": [
    "**9. 试加载训练数据**"
   ],
   "metadata": {
    "collapsed": false,
    "pycharm": {
     "name": "#%% md\n"
    }
   }
  },
  {
   "cell_type": "code",
   "execution_count": 32,
   "outputs": [
    {
     "name": "stdout",
     "output_type": "stream",
     "text": [
      "(400, 220, 11, 11) (1, 400)\n",
      "(400, 220, 11, 11)\n"
     ]
    }
   ],
   "source": [
    "train_data=sio.loadmat(os.path.join(data_path,'train_11_1.mat'))\n",
    "test_data=sio.loadmat(os.path.join(data_path,'test_11_1.mat'))\n",
    "print(train_data['train_data'].shape,train_data['train_label'].shape)\n",
    "print(test_data['test_data'].shape)\n"
   ],
   "metadata": {
    "collapsed": false,
    "pycharm": {
     "name": "#%%\n"
    }
   }
  }
 ],
 "metadata": {
  "kernelspec": {
   "name": "pycharm-368948a5",
   "language": "python",
   "display_name": "PyCharm (opencv)"
  },
  "language_info": {
   "codemirror_mode": {
    "name": "ipython",
    "version": 2
   },
   "file_extension": ".py",
   "mimetype": "text/x-python",
   "name": "python",
   "nbconvert_exporter": "python",
   "pygments_lexer": "ipython2",
   "version": "2.7.6"
  }
 },
 "nbformat": 4,
 "nbformat_minor": 0
}