{
 "cells": [
  {
   "cell_type": "code",
   "execution_count": 11,
   "outputs": [],
   "source": [
    "import tensorflow as tf\n",
    "import numpy as np"
   ],
   "metadata": {
    "collapsed": false,
    "pycharm": {
     "name": "#%%\n"
    }
   }
  },
  {
   "cell_type": "markdown",
   "metadata": {
    "collapsed": true,
    "pycharm": {
     "name": "#%% md\n"
    }
   },
   "source": [
    "1.dateType of tensorFlow"
   ]
  },
  {
   "cell_type": "code",
   "execution_count": 9,
   "outputs": [
    {
     "name": "stdout",
     "output_type": "stream",
     "text": [
      "tf.Tensor(1.0, shape=(), dtype=float32)\n",
      "0\n",
      "/job:localhost/replica:0/task:0/device:CPU:0\n"
     ]
    }
   ],
   "source": [
    "a=tf.constant(1.)\n",
    "print(a)\n",
    "print(a.ndim)\n",
    "print(a.device)"
   ],
   "metadata": {
    "collapsed": false,
    "pycharm": {
     "name": "#%%\n"
    }
   }
  },
  {
   "cell_type": "markdown",
   "source": [
    "2.create tensor\n"
   ],
   "metadata": {
    "collapsed": false,
    "pycharm": {
     "name": "#%% md\n"
    }
   }
  },
  {
   "cell_type": "code",
   "execution_count": 14,
   "outputs": [
    {
     "name": "stdout",
     "output_type": "stream",
     "text": [
      "tf.Tensor([0. 1. 2. 3. 4.], shape=(5,), dtype=float32)\n",
      "tf.Tensor([0 1 2 3 4], shape=(5,), dtype=int32)\n",
      "name:test_arg:0\n"
     ]
    }
   ],
   "source": [
    "b=np.arange(5)\n",
    "bb=tf.convert_to_tensor(b,dtype=tf.float32)\n",
    "print(bb)\n",
    "bbb=tf.cast(bb,dtype=tf.int32)\n",
    "print(bbb)\n",
    "b_var=tf.Variable(bb,name='test_arg')\n",
    "print(\"name:\"+b_var.name)"
   ],
   "metadata": {
    "collapsed": false,
    "pycharm": {
     "name": "#%%\n"
    }
   }
  },
  {
   "cell_type": "code",
   "execution_count": 18,
   "outputs": [
    {
     "name": "stdout",
     "output_type": "stream",
     "text": [
      "tf.Tensor(\n",
      "[[[0 0 0]\n",
      "  [0 0 0]\n",
      "  [0 0 0]]\n",
      "\n",
      " [[0 0 0]\n",
      "  [0 0 0]\n",
      "  [0 0 0]]], shape=(2, 3, 3), dtype=int32)\n"
     ]
    }
   ],
   "source": [
    "c=tf.zeros([2,3,3],dtype=tf.int32)\n",
    "d=tf.zeros_like(c)\n",
    "print(d)\n",
    "c=tf.ones([2,3,3],dtype=tf.int32)\n",
    "print(c)\n",
    "d=tf.fill([2,3,3],9)\n",
    "print(d)"
   ],
   "metadata": {
    "collapsed": false,
    "pycharm": {
     "name": "#%%\n"
    }
   }
  },
  {
   "cell_type": "code",
   "execution_count": 20,
   "outputs": [
    {
     "name": "stdout",
     "output_type": "stream",
     "text": [
      "tf.Tensor([0.44635478 0.2595389  0.39031798 0.3252991 ], shape=(4,), dtype=float32)\n",
      "tf.Tensor(0.3553777, shape=(), dtype=float32)\n"
     ]
    }
   ],
   "source": [
    "out=tf.random.uniform([4,10],name='out')\n",
    "y=tf.range(4)\n",
    "y=tf.one_hot(y,depth=10)\n",
    "loss=tf.keras.losses.MSE(y,out)\n",
    "print(loss)\n",
    "loss=tf.reduce_mean(loss)\n",
    "print(loss)\n"
   ],
   "metadata": {
    "collapsed": false,
    "pycharm": {
     "name": "#%%\n"
    }
   }
  },
  {
   "cell_type": "code",
   "execution_count": 34,
   "outputs": [
    {
     "name": "stdout",
     "output_type": "stream",
     "text": [
      "<tf.Variable 'kernel:0' shape=(8, 10) dtype=float32, numpy=\n",
      "array([[ 0.02651668,  0.05898762, -0.32066494,  0.19428825, -0.5769244 ,\n",
      "         0.34867805, -0.45171562,  0.570521  , -0.15838471,  0.42994106],\n",
      "       [-0.52768093, -0.5020034 , -0.1903682 ,  0.3288238 , -0.45060217,\n",
      "        -0.35785264, -0.18897215, -0.04983795,  0.27868068,  0.4080143 ],\n",
      "       [ 0.19068205, -0.5674048 ,  0.2553659 , -0.38740587, -0.5759398 ,\n",
      "         0.49910772, -0.0532766 , -0.27769938,  0.54793906,  0.33956677],\n",
      "       [ 0.17284149, -0.05288059,  0.35460734,  0.425089  , -0.14174229,\n",
      "         0.12381119,  0.16628462,  0.17596263,  0.41320348, -0.23338732],\n",
      "       [ 0.4913628 ,  0.05592662,  0.46866155,  0.2859649 , -0.04250139,\n",
      "         0.5724776 , -0.31121108,  0.05732769, -0.44693238, -0.2858808 ],\n",
      "       [ 0.3906737 ,  0.16475767, -0.23243284,  0.07150048, -0.5429758 ,\n",
      "        -0.19511938,  0.00455022, -0.20579681, -0.2516974 ,  0.35388356],\n",
      "       [ 0.49580014,  0.57079947, -0.5008021 , -0.3262891 ,  0.38823038,\n",
      "         0.53012025,  0.5164074 ,  0.3483544 , -0.4886405 , -0.37978745],\n",
      "       [-0.19777122, -0.1560401 ,  0.26057392,  0.08116263,  0.5114212 ,\n",
      "        -0.11190796, -0.26717708,  0.29726827, -0.30259454, -0.504733  ]],\n",
      "      dtype=float32)>\n",
      "(4, 10)\n",
      "(10,)\n"
     ]
    }
   ],
   "source": [
    "x=tf.random.normal([4,8])\n",
    "net=tf.keras.layers.Dense(10)\n",
    "net.build((4,8))\n",
    "print(net.kernel)  # 所使用的变换举证\n",
    "print(net(x).shape)\n",
    "print(net.bias.shape)"
   ],
   "metadata": {
    "collapsed": false,
    "pycharm": {
     "name": "#%%\n"
    }
   }
  },
  {
   "cell_type": "markdown",
   "source": [
    "3、索引与切片\n"
   ],
   "metadata": {
    "collapsed": false,
    "pycharm": {
     "name": "#%% md\n"
    }
   }
  },
  {
   "cell_type": "code",
   "execution_count": 38,
   "outputs": [
    {
     "name": "stdout",
     "output_type": "stream",
     "text": [
      "tf.Tensor([3 1], shape=(2,), dtype=int32)\n"
     ]
    }
   ],
   "source": [
    "a=tf.range(4)\n",
    "a1=a[3::-2]\n",
    "print(a1)\n"
   ],
   "metadata": {
    "collapsed": false,
    "pycharm": {
     "name": "#%%\n"
    }
   }
  },
  {
   "cell_type": "code",
   "execution_count": 41,
   "outputs": [
    {
     "name": "stdout",
     "output_type": "stream",
     "text": [
      "tf.Tensor([0 3], shape=(2,), dtype=int32)\n"
     ]
    }
   ],
   "source": [
    "b=tf.gather(a,indices=[0,3])\n",
    "print(b)"
   ],
   "metadata": {
    "collapsed": false,
    "pycharm": {
     "name": "#%%\n"
    }
   }
  },
  {
   "cell_type": "markdown",
   "source": [
    "维度变换\n"
   ],
   "metadata": {
    "collapsed": false,
    "pycharm": {
     "name": "#%% md\n"
    }
   }
  },
  {
   "cell_type": "code",
   "execution_count": 43,
   "outputs": [
    {
     "ename": "InvalidArgumentError",
     "evalue": "Input to reshape is a tensor with 9408 values, but the requested shape has 1536 [Op:Reshape]",
     "output_type": "error",
     "traceback": [
      "\u001B[1;31m---------------------------------------------------------------------------\u001B[0m",
      "\u001B[1;31mInvalidArgumentError\u001B[0m                      Traceback (most recent call last)",
      "\u001B[1;32m<ipython-input-43-58d3cf084272>\u001B[0m in \u001B[0;36m<module>\u001B[1;34m\u001B[0m\n\u001B[0;32m      1\u001B[0m \u001B[0ma\u001B[0m\u001B[1;33m=\u001B[0m\u001B[0mtf\u001B[0m\u001B[1;33m.\u001B[0m\u001B[0mones\u001B[0m\u001B[1;33m(\u001B[0m\u001B[1;33m[\u001B[0m\u001B[1;36m4\u001B[0m\u001B[1;33m,\u001B[0m\u001B[1;36m28\u001B[0m\u001B[1;33m,\u001B[0m\u001B[1;36m28\u001B[0m\u001B[1;33m,\u001B[0m\u001B[1;36m3\u001B[0m\u001B[1;33m]\u001B[0m\u001B[1;33m)\u001B[0m\u001B[1;33m\u001B[0m\u001B[1;33m\u001B[0m\u001B[0m\n\u001B[1;32m----> 2\u001B[1;33m \u001B[0ma\u001B[0m\u001B[1;33m=\u001B[0m\u001B[0mtf\u001B[0m\u001B[1;33m.\u001B[0m\u001B[0mreshape\u001B[0m\u001B[1;33m(\u001B[0m\u001B[0ma\u001B[0m\u001B[1;33m,\u001B[0m\u001B[1;33m[\u001B[0m\u001B[1;36m4\u001B[0m\u001B[1;33m,\u001B[0m\u001B[1;36m128\u001B[0m\u001B[1;33m,\u001B[0m\u001B[1;36m3\u001B[0m\u001B[1;33m]\u001B[0m\u001B[1;33m)\u001B[0m\u001B[1;33m\u001B[0m\u001B[1;33m\u001B[0m\u001B[0m\n\u001B[0m\u001B[0;32m      3\u001B[0m \u001B[0mprint\u001B[0m\u001B[1;33m(\u001B[0m\u001B[0ma\u001B[0m\u001B[1;33m.\u001B[0m\u001B[0mshape\u001B[0m\u001B[1;33m)\u001B[0m\u001B[1;33m\u001B[0m\u001B[1;33m\u001B[0m\u001B[0m\n\u001B[0;32m      4\u001B[0m \u001B[1;33m\u001B[0m\u001B[0m\n\u001B[0;32m      5\u001B[0m \u001B[1;33m\u001B[0m\u001B[0m\n",
      "\u001B[1;32md:\\programdata\\anaconda3\\envs\\tf-cpu\\lib\\site-packages\\tensorflow_core\\python\\ops\\array_ops.py\u001B[0m in \u001B[0;36mreshape\u001B[1;34m(tensor, shape, name)\u001B[0m\n\u001B[0;32m    129\u001B[0m     \u001B[0mA\u001B[0m\u001B[0;31m \u001B[0m\u001B[0;31m`\u001B[0m\u001B[0mTensor\u001B[0m\u001B[0;31m`\u001B[0m\u001B[1;33m.\u001B[0m \u001B[0mHas\u001B[0m \u001B[0mthe\u001B[0m \u001B[0msame\u001B[0m \u001B[0mtype\u001B[0m \u001B[1;32mas\u001B[0m\u001B[0;31m \u001B[0m\u001B[0;31m`\u001B[0m\u001B[0mtensor\u001B[0m\u001B[0;31m`\u001B[0m\u001B[1;33m.\u001B[0m\u001B[1;33m\u001B[0m\u001B[1;33m\u001B[0m\u001B[0m\n\u001B[0;32m    130\u001B[0m   \"\"\"\n\u001B[1;32m--> 131\u001B[1;33m   \u001B[0mresult\u001B[0m \u001B[1;33m=\u001B[0m \u001B[0mgen_array_ops\u001B[0m\u001B[1;33m.\u001B[0m\u001B[0mreshape\u001B[0m\u001B[1;33m(\u001B[0m\u001B[0mtensor\u001B[0m\u001B[1;33m,\u001B[0m \u001B[0mshape\u001B[0m\u001B[1;33m,\u001B[0m \u001B[0mname\u001B[0m\u001B[1;33m)\u001B[0m\u001B[1;33m\u001B[0m\u001B[1;33m\u001B[0m\u001B[0m\n\u001B[0m\u001B[0;32m    132\u001B[0m   \u001B[0mtensor_util\u001B[0m\u001B[1;33m.\u001B[0m\u001B[0mmaybe_set_static_shape\u001B[0m\u001B[1;33m(\u001B[0m\u001B[0mresult\u001B[0m\u001B[1;33m,\u001B[0m \u001B[0mshape\u001B[0m\u001B[1;33m)\u001B[0m\u001B[1;33m\u001B[0m\u001B[1;33m\u001B[0m\u001B[0m\n\u001B[0;32m    133\u001B[0m   \u001B[1;32mreturn\u001B[0m \u001B[0mresult\u001B[0m\u001B[1;33m\u001B[0m\u001B[1;33m\u001B[0m\u001B[0m\n",
      "\u001B[1;32md:\\programdata\\anaconda3\\envs\\tf-cpu\\lib\\site-packages\\tensorflow_core\\python\\ops\\gen_array_ops.py\u001B[0m in \u001B[0;36mreshape\u001B[1;34m(tensor, shape, name)\u001B[0m\n\u001B[0;32m   8103\u001B[0m       \u001B[1;32mtry\u001B[0m\u001B[1;33m:\u001B[0m\u001B[1;33m\u001B[0m\u001B[1;33m\u001B[0m\u001B[0m\n\u001B[0;32m   8104\u001B[0m         return reshape_eager_fallback(\n\u001B[1;32m-> 8105\u001B[1;33m             tensor, shape, name=name, ctx=_ctx)\n\u001B[0m\u001B[0;32m   8106\u001B[0m       \u001B[1;32mexcept\u001B[0m \u001B[0m_core\u001B[0m\u001B[1;33m.\u001B[0m\u001B[0m_SymbolicException\u001B[0m\u001B[1;33m:\u001B[0m\u001B[1;33m\u001B[0m\u001B[1;33m\u001B[0m\u001B[0m\n\u001B[0;32m   8107\u001B[0m         \u001B[1;32mpass\u001B[0m  \u001B[1;31m# Add nodes to the TensorFlow graph.\u001B[0m\u001B[1;33m\u001B[0m\u001B[1;33m\u001B[0m\u001B[0m\n",
      "\u001B[1;32md:\\programdata\\anaconda3\\envs\\tf-cpu\\lib\\site-packages\\tensorflow_core\\python\\ops\\gen_array_ops.py\u001B[0m in \u001B[0;36mreshape_eager_fallback\u001B[1;34m(tensor, shape, name, ctx)\u001B[0m\n\u001B[0;32m   8141\u001B[0m   \u001B[0m_attrs\u001B[0m \u001B[1;33m=\u001B[0m \u001B[1;33m(\u001B[0m\u001B[1;34m\"T\"\u001B[0m\u001B[1;33m,\u001B[0m \u001B[0m_attr_T\u001B[0m\u001B[1;33m,\u001B[0m \u001B[1;34m\"Tshape\"\u001B[0m\u001B[1;33m,\u001B[0m \u001B[0m_attr_Tshape\u001B[0m\u001B[1;33m)\u001B[0m\u001B[1;33m\u001B[0m\u001B[1;33m\u001B[0m\u001B[0m\n\u001B[0;32m   8142\u001B[0m   _result = _execute.execute(b\"Reshape\", 1, inputs=_inputs_flat, attrs=_attrs,\n\u001B[1;32m-> 8143\u001B[1;33m                              ctx=_ctx, name=name)\n\u001B[0m\u001B[0;32m   8144\u001B[0m   _execute.record_gradient(\n\u001B[0;32m   8145\u001B[0m       \"Reshape\", _inputs_flat, _attrs, _result, name)\n",
      "\u001B[1;32md:\\programdata\\anaconda3\\envs\\tf-cpu\\lib\\site-packages\\tensorflow_core\\python\\eager\\execute.py\u001B[0m in \u001B[0;36mquick_execute\u001B[1;34m(op_name, num_outputs, inputs, attrs, ctx, name)\u001B[0m\n\u001B[0;32m     65\u001B[0m     \u001B[1;32melse\u001B[0m\u001B[1;33m:\u001B[0m\u001B[1;33m\u001B[0m\u001B[1;33m\u001B[0m\u001B[0m\n\u001B[0;32m     66\u001B[0m       \u001B[0mmessage\u001B[0m \u001B[1;33m=\u001B[0m \u001B[0me\u001B[0m\u001B[1;33m.\u001B[0m\u001B[0mmessage\u001B[0m\u001B[1;33m\u001B[0m\u001B[1;33m\u001B[0m\u001B[0m\n\u001B[1;32m---> 67\u001B[1;33m     \u001B[0msix\u001B[0m\u001B[1;33m.\u001B[0m\u001B[0mraise_from\u001B[0m\u001B[1;33m(\u001B[0m\u001B[0mcore\u001B[0m\u001B[1;33m.\u001B[0m\u001B[0m_status_to_exception\u001B[0m\u001B[1;33m(\u001B[0m\u001B[0me\u001B[0m\u001B[1;33m.\u001B[0m\u001B[0mcode\u001B[0m\u001B[1;33m,\u001B[0m \u001B[0mmessage\u001B[0m\u001B[1;33m)\u001B[0m\u001B[1;33m,\u001B[0m \u001B[1;32mNone\u001B[0m\u001B[1;33m)\u001B[0m\u001B[1;33m\u001B[0m\u001B[1;33m\u001B[0m\u001B[0m\n\u001B[0m\u001B[0;32m     68\u001B[0m   \u001B[1;32mexcept\u001B[0m \u001B[0mTypeError\u001B[0m \u001B[1;32mas\u001B[0m \u001B[0me\u001B[0m\u001B[1;33m:\u001B[0m\u001B[1;33m\u001B[0m\u001B[1;33m\u001B[0m\u001B[0m\n\u001B[0;32m     69\u001B[0m     keras_symbolic_tensors = [\n",
      "\u001B[1;32md:\\programdata\\anaconda3\\envs\\tf-cpu\\lib\\site-packages\\six.py\u001B[0m in \u001B[0;36mraise_from\u001B[1;34m(value, from_value)\u001B[0m\n",
      "\u001B[1;31mInvalidArgumentError\u001B[0m: Input to reshape is a tensor with 9408 values, but the requested shape has 1536 [Op:Reshape]"
     ]
    }
   ],
   "source": [
    "a=tf.ones([4,28,28,3])\n",
    "a=tf.reshape(a,[4,784,3])\n",
    "print(a.shape)\n",
    "\n"
   ],
   "metadata": {
    "collapsed": false,
    "pycharm": {
     "name": "#%%\n"
    }
   }
  }
 ],
 "metadata": {
  "kernelspec": {
   "display_name": "Python 3",
   "language": "python",
   "name": "python3"
  },
  "language_info": {
   "codemirror_mode": {
    "name": "ipython",
    "version": 2
   },
   "file_extension": ".py",
   "mimetype": "text/x-python",
   "name": "python",
   "nbconvert_exporter": "python",
   "pygments_lexer": "ipython2",
   "version": "2.7.6"
  }
 },
 "nbformat": 4,
 "nbformat_minor": 0
}