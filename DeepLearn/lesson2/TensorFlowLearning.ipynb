{
 "cells": [
  {
   "cell_type": "code",
   "execution_count": 2,
   "outputs": [],
   "source": [
    "import tensorflow as tf\n",
    "import numpy as np"
   ],
   "metadata": {
    "collapsed": false,
    "pycharm": {
     "name": "#%%\n"
    }
   }
  },
  {
   "cell_type": "markdown",
   "metadata": {
    "collapsed": true,
    "pycharm": {
     "name": "#%% md\n"
    }
   },
   "source": [
    "1.dateType of tensorFlow"
   ]
  },
  {
   "cell_type": "code",
   "execution_count": 3,
   "outputs": [
    {
     "name": "stdout",
     "output_type": "stream",
     "text": [
      "tf.Tensor(1.0, shape=(), dtype=float32)\n",
      "0\n",
      "/job:localhost/replica:0/task:0/device:CPU:0\n"
     ]
    }
   ],
   "source": [
    "a=tf.constant(1.)\n",
    "print(a)\n",
    "print(a.ndim)\n",
    "print(a.device)"
   ],
   "metadata": {
    "collapsed": false,
    "pycharm": {
     "name": "#%%\n"
    }
   }
  },
  {
   "cell_type": "markdown",
   "source": [
    "2.create tensor\n"
   ],
   "metadata": {
    "collapsed": false,
    "pycharm": {
     "name": "#%% md\n"
    }
   }
  },
  {
   "cell_type": "code",
   "execution_count": 4,
   "outputs": [
    {
     "name": "stdout",
     "output_type": "stream",
     "text": [
      "tf.Tensor([0. 1. 2. 3. 4.], shape=(5,), dtype=float32)\n",
      "tf.Tensor([0 1 2 3 4], shape=(5,), dtype=int32)\n",
      "name:test_arg:0\n"
     ]
    }
   ],
   "source": [
    "b=np.arange(5)\n",
    "bb=tf.convert_to_tensor(b,dtype=tf.float32)\n",
    "print(bb)\n",
    "bbb=tf.cast(bb,dtype=tf.int32)\n",
    "print(bbb)\n",
    "b_var=tf.Variable(bb,name='test_arg')\n",
    "print(\"name:\"+b_var.name)"
   ],
   "metadata": {
    "collapsed": false,
    "pycharm": {
     "name": "#%%\n"
    }
   }
  },
  {
   "cell_type": "code",
   "execution_count": 5,
   "outputs": [
    {
     "name": "stdout",
     "output_type": "stream",
     "text": [
      "tf.Tensor(\n",
      "[[[0 0 0]\n",
      "  [0 0 0]\n",
      "  [0 0 0]]\n",
      "\n",
      " [[0 0 0]\n",
      "  [0 0 0]\n",
      "  [0 0 0]]], shape=(2, 3, 3), dtype=int32)\n",
      "tf.Tensor(\n",
      "[[[1 1 1]\n",
      "  [1 1 1]\n",
      "  [1 1 1]]\n",
      "\n",
      " [[1 1 1]\n",
      "  [1 1 1]\n",
      "  [1 1 1]]], shape=(2, 3, 3), dtype=int32)\n",
      "tf.Tensor(\n",
      "[[[9 9 9]\n",
      "  [9 9 9]\n",
      "  [9 9 9]]\n",
      "\n",
      " [[9 9 9]\n",
      "  [9 9 9]\n",
      "  [9 9 9]]], shape=(2, 3, 3), dtype=int32)\n"
     ]
    }
   ],
   "source": [
    "c=tf.zeros([2,3,3],dtype=tf.int32)\n",
    "d=tf.zeros_like(c)\n",
    "print(d)\n",
    "c=tf.ones([2,3,3],dtype=tf.int32)\n",
    "print(c)\n",
    "d=tf.fill([2,3,3],9)\n",
    "print(d)"
   ],
   "metadata": {
    "collapsed": false,
    "pycharm": {
     "name": "#%%\n"
    }
   }
  },
  {
   "cell_type": "code",
   "execution_count": 6,
   "outputs": [
    {
     "name": "stdout",
     "output_type": "stream",
     "text": [
      "tf.Tensor([0.29997283 0.3700024  0.23614883 0.6134377 ], shape=(4,), dtype=float32)\n",
      "tf.Tensor(0.37989044, shape=(), dtype=float32)\n"
     ]
    }
   ],
   "source": [
    "out=tf.random.uniform([4,10],name='out')\n",
    "y=tf.range(4)\n",
    "y=tf.one_hot(y,depth=10)\n",
    "loss=tf.keras.losses.MSE(y,out)\n",
    "print(loss)\n",
    "loss=tf.reduce_mean(loss)\n",
    "print(loss)\n"
   ],
   "metadata": {
    "collapsed": false,
    "pycharm": {
     "name": "#%%\n"
    }
   }
  },
  {
   "cell_type": "code",
   "execution_count": 7,
   "outputs": [
    {
     "name": "stdout",
     "output_type": "stream",
     "text": [
      "<tf.Variable 'kernel:0' shape=(8, 10) dtype=float32, numpy=\n",
      "array([[ 0.29147512,  0.51963377, -0.3467219 , -0.51204944,  0.57307315,\n",
      "         0.11224836, -0.23410517, -0.14214644,  0.20699275, -0.45291746],\n",
      "       [ 0.30260497, -0.25970468,  0.13881445,  0.25123543,  0.44785142,\n",
      "         0.36035693,  0.56552553,  0.40435606,  0.51295674,  0.35151982],\n",
      "       [ 0.15863454, -0.4317229 , -0.16692251,  0.3483305 ,  0.44755626,\n",
      "        -0.13063744, -0.25851524,  0.5551714 , -0.340909  ,  0.06552798],\n",
      "       [-0.25729153, -0.3721503 ,  0.10217476,  0.13250893,  0.55786633,\n",
      "         0.23266023, -0.42103678,  0.38596082,  0.54700196, -0.43202546],\n",
      "       [ 0.3004151 ,  0.51184976, -0.10883337, -0.33648682, -0.05753511,\n",
      "        -0.14869696, -0.37020004, -0.19547892, -0.1850648 ,  0.49225628],\n",
      "       [ 0.20211673, -0.48155162, -0.39172882, -0.527132  , -0.5191398 ,\n",
      "        -0.5207232 ,  0.19836819,  0.3545943 , -0.21752277,  0.08129185],\n",
      "       [-0.07283264,  0.5272076 ,  0.50057006,  0.04678303,  0.01333511,\n",
      "         0.52360487, -0.22656423, -0.13450846,  0.46708775,  0.52829325],\n",
      "       [ 0.4016803 ,  0.26457697, -0.44101104, -0.1532444 ,  0.49043107,\n",
      "        -0.1948438 , -0.22824371, -0.5586096 ,  0.45557868,  0.05407041]],\n",
      "      dtype=float32)>\n",
      "(4, 10)\n",
      "(10,)\n"
     ]
    }
   ],
   "source": [
    "x=tf.random.normal([4,8])\n",
    "net=tf.keras.layers.Dense(10)\n",
    "net.build((4,8))\n",
    "print(net.kernel)  # 所使用的变换举证\n",
    "print(net(x).shape)\n",
    "print(net.bias.shape)"
   ],
   "metadata": {
    "collapsed": false,
    "pycharm": {
     "name": "#%%\n"
    }
   }
  },
  {
   "cell_type": "markdown",
   "source": [
    "3、索引与切片\n"
   ],
   "metadata": {
    "collapsed": false,
    "pycharm": {
     "name": "#%% md\n"
    }
   }
  },
  {
   "cell_type": "code",
   "execution_count": 8,
   "outputs": [
    {
     "name": "stdout",
     "output_type": "stream",
     "text": [
      "tf.Tensor([3 1], shape=(2,), dtype=int32)\n"
     ]
    }
   ],
   "source": [
    "a=tf.range(4)\n",
    "a1=a[3::-2]\n",
    "print(a1)\n"
   ],
   "metadata": {
    "collapsed": false,
    "pycharm": {
     "name": "#%%\n"
    }
   }
  },
  {
   "cell_type": "code",
   "execution_count": 9,
   "outputs": [
    {
     "name": "stdout",
     "output_type": "stream",
     "text": [
      "tf.Tensor([0 3], shape=(2,), dtype=int32)\n"
     ]
    }
   ],
   "source": [
    "b=tf.gather(a,indices=[0,3])\n",
    "print(b)"
   ],
   "metadata": {
    "collapsed": false,
    "pycharm": {
     "name": "#%%\n"
    }
   }
  },
  {
   "cell_type": "markdown",
   "source": [
    "维度变换"
   ],
   "metadata": {
    "collapsed": false,
    "pycharm": {
     "name": "#%% md\n"
    }
   }
  },
  {
   "cell_type": "code",
   "execution_count": 12,
   "outputs": [
    {
     "name": "stdout",
     "output_type": "stream",
     "text": [
      "(4, 28, 28, 3, 1)\n",
      "(2, 3)\n",
      "(2, 3, 1, 1)\n"
     ]
    }
   ],
   "source": [
    "a=tf.ones([4,28,28,3])\n",
    "print(tf.expand_dims(a,axis=-1).shape)\n",
    "b=tf.ones([1,2,3,1,1])\n",
    "print(tf.squeeze(b).shape)\n",
    "print(tf.squeeze(b,axis=0).shape)"
   ],
   "metadata": {
    "collapsed": false,
    "pycharm": {
     "name": "#%% data\n"
    }
   }
  },
  {
   "cell_type": "markdown",
   "source": [
    "broadCast 广播\n"
   ],
   "metadata": {
    "collapsed": false,
    "pycharm": {
     "name": "#%% md\n"
    }
   }
  },
  {
   "cell_type": "code",
   "execution_count": 28,
   "outputs": [],
   "source": [
    "import sys"
   ],
   "metadata": {
    "collapsed": false,
    "pycharm": {
     "name": "#%%\n"
    }
   }
  },
  {
   "cell_type": "code",
   "execution_count": 29,
   "outputs": [
    {
     "name": "stdout",
     "output_type": "stream",
     "text": [
      "168\n",
      "168\n"
     ]
    }
   ],
   "source": [
    "a=tf.ones([3,4])\n",
    "a1=tf.broadcast_to(a,[2,3,4])\n",
    "print(sys.getsizeof(a1))\n",
    "a2=tf.expand_dims(a,axis=0)\n",
    "a2=tf.tile(a2,[2,1,1])\n",
    "print(sys.getsizeof(a2))"
   ],
   "metadata": {
    "collapsed": false,
    "pycharm": {
     "name": "#%%\n"
    }
   }
  }
 ],
 "metadata": {
  "kernelspec": {
   "display_name": "Python 3",
   "language": "python",
   "name": "python3"
  },
  "language_info": {
   "codemirror_mode": {
    "name": "ipython",
    "version": 2
   },
   "file_extension": ".py",
   "mimetype": "text/x-python",
   "name": "python",
   "nbconvert_exporter": "python",
   "pygments_lexer": "ipython2",
   "version": "2.7.6"
  }
 },
 "nbformat": 4,
 "nbformat_minor": 0
}