{
 "cells": [
  {
   "cell_type": "markdown",
   "source": [
    "merge and split\n"
   ],
   "metadata": {
    "collapsed": false,
    "pycharm": {
     "name": "#%% md\n"
    }
   }
  },
  {
   "cell_type": "code",
   "execution_count": 1,
   "outputs": [],
   "source": [
    "import tensorflow as tf\n",
    "import numpy as np"
   ],
   "metadata": {
    "collapsed": false,
    "pycharm": {
     "name": "#%%\n"
    }
   }
  },
  {
   "cell_type": "code",
   "execution_count": 2,
   "outputs": [],
   "source": [
    "a=tf.ones([2,3,4])\n",
    "b=tf.ones([2,3,4])"
   ],
   "metadata": {
    "collapsed": false,
    "pycharm": {
     "name": "#%%\n"
    }
   }
  },
  {
   "cell_type": "code",
   "execution_count": 3,
   "outputs": [
    {
     "name": "stdout",
     "output_type": "stream",
     "text": [
      "(2, 2, 3, 4)\n",
      "4\n",
      "[<tf.Tensor: id=15, shape=(2, 2, 3, 1), dtype=float32, numpy=\n",
      "array([[[[1.],\n",
      "         [1.],\n",
      "         [1.]],\n",
      "\n",
      "        [[1.],\n",
      "         [1.],\n",
      "         [1.]]],\n",
      "\n",
      "\n",
      "       [[[1.],\n",
      "         [1.],\n",
      "         [1.]],\n",
      "\n",
      "        [[1.],\n",
      "         [1.],\n",
      "         [1.]]]], dtype=float32)>, <tf.Tensor: id=16, shape=(2, 2, 3, 1), dtype=float32, numpy=\n",
      "array([[[[1.],\n",
      "         [1.],\n",
      "         [1.]],\n",
      "\n",
      "        [[1.],\n",
      "         [1.],\n",
      "         [1.]]],\n",
      "\n",
      "\n",
      "       [[[1.],\n",
      "         [1.],\n",
      "         [1.]],\n",
      "\n",
      "        [[1.],\n",
      "         [1.],\n",
      "         [1.]]]], dtype=float32)>, <tf.Tensor: id=17, shape=(2, 2, 3, 2), dtype=float32, numpy=\n",
      "array([[[[1., 1.],\n",
      "         [1., 1.],\n",
      "         [1., 1.]],\n",
      "\n",
      "        [[1., 1.],\n",
      "         [1., 1.],\n",
      "         [1., 1.]]],\n",
      "\n",
      "\n",
      "       [[[1., 1.],\n",
      "         [1., 1.],\n",
      "         [1., 1.]],\n",
      "\n",
      "        [[1., 1.],\n",
      "         [1., 1.],\n",
      "         [1., 1.]]]], dtype=float32)>]\n"
     ]
    }
   ],
   "source": [
    "c=tf.concat([a,b],axis=0)\n",
    "c=tf.stack([a,b],axis=0)\n",
    "print(c.shape)\n",
    "c_unstack=tf.unstack(c,axis=3)\n",
    "print(len(c_unstack))\n",
    "c_split=tf.split(c,axis=3,num_or_size_splits=[1,1,2])\n",
    "print(c_split)"
   ],
   "metadata": {
    "collapsed": false,
    "pycharm": {
     "name": "#%%\n"
    }
   }
  },
  {
   "cell_type": "code",
   "execution_count": 4,
   "outputs": [
    {
     "name": "stdout",
     "output_type": "stream",
     "text": [
      "tf.Tensor(0.5, shape=(), dtype=float64)\n",
      "Unique(y=<tf.Tensor: id=32, shape=(3,), dtype=int32, numpy=array([1, 2, 3])>, idx=<tf.Tensor: id=33, shape=(5,), dtype=int32, numpy=array([0, 0, 1, 2, 0])>)\n"
     ]
    }
   ],
   "source": [
    "train_data=tf.constant([[0.7,0.2,0.1],[0.1,0.1,0.8]],dtype=tf.float32)\n",
    "true_data=tf.constant([0,1],dtype=tf.int32)\n",
    "label=tf.cast(tf.argmax(train_data,axis=1),dtype=tf.int32)\n",
    "accruracy=tf.cast(tf.equal(label,true_data),dtype=tf.int32)\n",
    "accruracy=tf.reduce_sum(accruracy)/2\n",
    "print(accruracy)\n",
    "c=tf.constant([1,1,2,3,1])\n",
    "print(tf.unique(c))"
   ],
   "metadata": {
    "collapsed": false,
    "pycharm": {
     "name": "#%%\n"
    }
   }
  },
  {
   "cell_type": "code",
   "execution_count": 5,
   "outputs": [
    {
     "name": "stdout",
     "output_type": "stream",
     "text": [
      "prob: tf.Tensor(\n",
      "[[0.18914455 0.13127434 0.03753081 0.30878717 0.31056187 0.02270122]\n",
      " [0.07210293 0.04480904 0.40489176 0.29551548 0.03023243 0.15244836]\n",
      " [0.10895432 0.12371824 0.04331626 0.14372498 0.08741116 0.49287504]\n",
      " [0.26060507 0.4348102  0.14537288 0.08517645 0.05711546 0.01691996]\n",
      " [0.05670745 0.09924065 0.43651462 0.15052003 0.0642606  0.19275665]\n",
      " [0.03208768 0.08043952 0.46071807 0.23915523 0.1556175  0.03198198]\n",
      " [0.48821378 0.04107748 0.06420166 0.2652414  0.01533049 0.1259352 ]\n",
      " [0.7516881  0.00872512 0.0255622  0.04361488 0.08865239 0.08175732]\n",
      " [0.10207477 0.2619223  0.3989438  0.1407758  0.07333813 0.02294523]\n",
      " [0.03954028 0.2542945  0.3683925  0.06335633 0.1818135  0.09260288]], shape=(10, 6), dtype=float32)\n"
     ]
    },
    {
     "ename": "TypeError",
     "evalue": "'tensorflow.python.framework.ops.EagerTensor' object is not callable",
     "output_type": "error",
     "traceback": [
      "\u001B[1;31m---------------------------------------------------------------------------\u001B[0m",
      "\u001B[1;31mTypeError\u001B[0m                                 Traceback (most recent call last)",
      "\u001B[1;32m<ipython-input-5-d4eba7d99ed3>\u001B[0m in \u001B[0;36m<module>\u001B[1;34m\u001B[0m\n\u001B[0;32m     20\u001B[0m \u001B[0mprint\u001B[0m\u001B[1;33m(\u001B[0m\u001B[1;34m\"prob:\"\u001B[0m\u001B[1;33m,\u001B[0m\u001B[0mout\u001B[0m\u001B[1;33m)\u001B[0m\u001B[1;33m\u001B[0m\u001B[1;33m\u001B[0m\u001B[0m\n\u001B[0;32m     21\u001B[0m \u001B[0mpred\u001B[0m\u001B[1;33m=\u001B[0m\u001B[0mtf\u001B[0m\u001B[1;33m.\u001B[0m\u001B[0margmax\u001B[0m\u001B[1;33m(\u001B[0m\u001B[0mout\u001B[0m\u001B[1;33m,\u001B[0m\u001B[0maxis\u001B[0m\u001B[1;33m=\u001B[0m\u001B[1;36m1\u001B[0m\u001B[1;33m)\u001B[0m\u001B[1;33m\u001B[0m\u001B[1;33m\u001B[0m\u001B[0m\n\u001B[1;32m---> 22\u001B[1;33m \u001B[0macc\u001B[0m\u001B[1;33m=\u001B[0m\u001B[0maccruracy\u001B[0m\u001B[1;33m(\u001B[0m\u001B[0mout\u001B[0m\u001B[1;33m,\u001B[0m\u001B[0mlabel\u001B[0m\u001B[1;33m,\u001B[0m\u001B[1;33m(\u001B[0m\u001B[1;36m1\u001B[0m\u001B[1;33m,\u001B[0m\u001B[1;36m2\u001B[0m\u001B[1;33m,\u001B[0m\u001B[1;36m3\u001B[0m\u001B[1;33m,\u001B[0m\u001B[1;36m4\u001B[0m\u001B[1;33m,\u001B[0m\u001B[1;36m5\u001B[0m\u001B[1;33m,\u001B[0m\u001B[1;36m6\u001B[0m\u001B[1;33m)\u001B[0m\u001B[1;33m)\u001B[0m\u001B[1;33m\u001B[0m\u001B[1;33m\u001B[0m\u001B[0m\n\u001B[0m\u001B[0;32m     23\u001B[0m \u001B[0mprint\u001B[0m\u001B[1;33m(\u001B[0m\u001B[0macc\u001B[0m\u001B[1;33m)\u001B[0m\u001B[1;33m\u001B[0m\u001B[1;33m\u001B[0m\u001B[0m\n\u001B[0;32m     24\u001B[0m \u001B[1;33m\u001B[0m\u001B[0m\n",
      "\u001B[1;31mTypeError\u001B[0m: 'tensorflow.python.framework.ops.EagerTensor' object is not callable"
     ]
    }
   ],
   "source": [
    "def accuracy(out_put,target,topk=(1,)):\n",
    "    maxk=max(topk)\n",
    "    batch_size=target.shape[0]\n",
    "    pre=tf.math.top_k(out_put,maxk).indices\n",
    "    pre=tf.transpose(pre,perm=[1,0])\n",
    "    target=tf.broadcast_to(target,pre.shape)\n",
    "    correct=tf.equal(pre,target)\n",
    "\n",
    "    res=[]\n",
    "    for k in topk:\n",
    "        correct_k=tf.cast(tf.reshape(correct[:k],[-1]),dtype=tf.float32)\n",
    "        correct_k=tf.reduce_sum(correct_k)\n",
    "        acc=float(correct_k*(100/batch_size))\n",
    "        res.append(acc)\n",
    "    return res\n",
    "\n",
    "out=tf.random.normal([10,6])\n",
    "out=tf.math.softmax(out,axis=1)\n",
    "label=tf.random.uniform([10],maxval=6,dtype=tf.int32,name='label')\n",
    "print(\"prob:\",out)\n",
    "pred=tf.argmax(out,axis=1)\n",
    "acc=accruracy(out,label,(1,2,3,4,5,6))\n",
    "print(acc)"
   ],
   "metadata": {
    "collapsed": false,
    "pycharm": {
     "name": "#%%\n"
    }
   }
  },
  {
   "cell_type": "markdown",
   "source": [
    "填充和复制\n"
   ],
   "metadata": {
    "collapsed": false,
    "pycharm": {
     "name": "#%% md\n"
    }
   }
  },
  {
   "cell_type": "code",
   "execution_count": 6,
   "outputs": [
    {
     "name": "stdout",
     "output_type": "stream",
     "text": [
      "tf.Tensor(\n",
      "[[[0. 0. 0. 0. 0. 0.]\n",
      "  [0. 1. 1. 1. 1. 0.]\n",
      "  [0. 1. 1. 1. 1. 0.]\n",
      "  [0. 1. 1. 1. 1. 0.]\n",
      "  [0. 0. 0. 0. 0. 0.]]\n",
      "\n",
      " [[0. 0. 0. 0. 0. 0.]\n",
      "  [0. 1. 1. 1. 1. 0.]\n",
      "  [0. 1. 1. 1. 1. 0.]\n",
      "  [0. 1. 1. 1. 1. 0.]\n",
      "  [0. 0. 0. 0. 0. 0.]]], shape=(2, 5, 6), dtype=float32)\n",
      "(4, 3, 4)\n"
     ]
    }
   ],
   "source": [
    "aa=tf.pad(a,[[0,0],[1,1],[1,1]])\n",
    "print(aa)\n",
    "bb=tf.tile(b,[2,1,1])\n",
    "print(bb.shape)"
   ],
   "metadata": {
    "collapsed": false,
    "pycharm": {
     "name": "#%%\n"
    }
   }
  },
  {
   "cell_type": "markdown",
   "source": [
    "张量限幅\n"
   ],
   "metadata": {
    "collapsed": false,
    "pycharm": {
     "name": "#%% md\n"
    }
   }
  },
  {
   "cell_type": "code",
   "execution_count": null,
   "outputs": [],
   "source": [
    "nums=tf.range(10,dtype=tf.int32)\n",
    "print(tf.maximum(nums,3))"
   ],
   "metadata": {
    "collapsed": false,
    "pycharm": {
     "name": "#%%\n"
    }
   }
  },
  {
   "cell_type": "code",
   "execution_count": 11,
   "outputs": [
    {
     "name": "stdout",
     "output_type": "stream",
     "text": [
      "tf.Tensor(\n",
      "[[ 1.9594563   0.9995384  -0.12404789]\n",
      " [ 1.6674773   0.43090057 -1.2981229 ]\n",
      " [ 0.10302886  0.6231257  -0.4341242 ]], shape=(3, 3), dtype=float32)\n",
      "tf.Tensor(\n",
      "[[ True  True False]\n",
      " [ True  True False]\n",
      " [ True  True False]], shape=(3, 3), dtype=bool)\n",
      "tf.Tensor(\n",
      "[[0 0]\n",
      " [0 1]\n",
      " [1 0]\n",
      " [1 1]\n",
      " [2 0]\n",
      " [2 1]], shape=(6, 2), dtype=int64)\n",
      "tf.Tensor([1.9594563  0.9995384  1.6674773  0.43090057 0.10302886 0.6231257 ], shape=(6,), dtype=float32)\n"
     ]
    }
   ],
   "source": [
    "c=tf.random.normal([3,3],dtype=tf.float32)\n",
    "print(c)\n",
    "mask=c>0\n",
    "print(mask)\n",
    "indices=tf.where(mask)\n",
    "print(indices)\n",
    "res=tf.gather_nd(c,indices=indices)\n",
    "print(res)"
   ],
   "metadata": {
    "collapsed": false,
    "pycharm": {
     "name": "#%%\n"
    }
   }
  },
  {
   "cell_type": "code",
   "execution_count": 13,
   "outputs": [
    {
     "name": "stdout",
     "output_type": "stream",
     "text": [
      "tf.Tensor([-2. -1.  0.  1.  2.], shape=(5,), dtype=float32)\n"
     ]
    }
   ],
   "source": [
    "points=[]\n",
    "x=tf.linspace(-2.,2,5)\n",
    "print(x)\n"
   ],
   "metadata": {
    "collapsed": false,
    "pycharm": {
     "name": "#%%\n"
    }
   }
  }
 ],
 "metadata": {
  "kernelspec": {
   "display_name": "Python 3",
   "language": "python",
   "name": "python3"
  },
  "language_info": {
   "codemirror_mode": {
    "name": "ipython",
    "version": 2
   },
   "file_extension": ".py",
   "mimetype": "text/x-python",
   "name": "python",
   "nbconvert_exporter": "python",
   "pygments_lexer": "ipython2",
   "version": "2.7.6"
  }
 },
 "nbformat": 4,
 "nbformat_minor": 0
}