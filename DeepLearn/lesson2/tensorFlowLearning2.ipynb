{
 "cells": [
  {
   "cell_type": "markdown",
   "source": [
    "merge and split\n"
   ],
   "metadata": {
    "collapsed": false,
    "pycharm": {
     "name": "#%% md\n"
    }
   }
  },
  {
   "cell_type": "code",
   "execution_count": 2,
   "outputs": [],
   "source": [
    "import tensorflow as tf\n",
    "import numpy as np"
   ],
   "metadata": {
    "collapsed": false,
    "pycharm": {
     "name": "#%%\n"
    }
   }
  },
  {
   "cell_type": "code",
   "execution_count": null,
   "outputs": [],
   "source": [
    "a=tf.ones([2,3,4])\n",
    "b=tf.ones([2,3,4])"
   ],
   "metadata": {
    "collapsed": false,
    "pycharm": {
     "name": "#%%\n",
     "is_executing": true
    }
   }
  },
  {
   "cell_type": "code",
   "execution_count": 3,
   "outputs": [
    {
     "name": "stdout",
     "output_type": "stream",
     "text": [
      "(2, 2, 3, 4)\n",
      "4\n",
      "[<tf.Tensor: id=15, shape=(2, 2, 3, 1), dtype=float32, numpy=\n",
      "array([[[[1.],\n",
      "         [1.],\n",
      "         [1.]],\n",
      "\n",
      "        [[1.],\n",
      "         [1.],\n",
      "         [1.]]],\n",
      "\n",
      "\n",
      "       [[[1.],\n",
      "         [1.],\n",
      "         [1.]],\n",
      "\n",
      "        [[1.],\n",
      "         [1.],\n",
      "         [1.]]]], dtype=float32)>, <tf.Tensor: id=16, shape=(2, 2, 3, 1), dtype=float32, numpy=\n",
      "array([[[[1.],\n",
      "         [1.],\n",
      "         [1.]],\n",
      "\n",
      "        [[1.],\n",
      "         [1.],\n",
      "         [1.]]],\n",
      "\n",
      "\n",
      "       [[[1.],\n",
      "         [1.],\n",
      "         [1.]],\n",
      "\n",
      "        [[1.],\n",
      "         [1.],\n",
      "         [1.]]]], dtype=float32)>, <tf.Tensor: id=17, shape=(2, 2, 3, 2), dtype=float32, numpy=\n",
      "array([[[[1., 1.],\n",
      "         [1., 1.],\n",
      "         [1., 1.]],\n",
      "\n",
      "        [[1., 1.],\n",
      "         [1., 1.],\n",
      "         [1., 1.]]],\n",
      "\n",
      "\n",
      "       [[[1., 1.],\n",
      "         [1., 1.],\n",
      "         [1., 1.]],\n",
      "\n",
      "        [[1., 1.],\n",
      "         [1., 1.],\n",
      "         [1., 1.]]]], dtype=float32)>]\n"
     ]
    }
   ],
   "source": [
    "c=tf.concat([a,b],axis=0)\n",
    "c=tf.stack([a,b],axis=0)\n",
    "print(c.shape)\n",
    "c_unstack=tf.unstack(c,axis=3)\n",
    "print(len(c_unstack))\n",
    "c_split=tf.split(c,axis=3,num_or_size_splits=[1,1,2])\n",
    "print(c_split)"
   ],
   "metadata": {
    "collapsed": false,
    "pycharm": {
     "name": "#%%\n"
    }
   }
  },
  {
   "cell_type": "code",
   "execution_count": 4,
   "outputs": [
    {
     "name": "stdout",
     "output_type": "stream",
     "text": [
      "tf.Tensor(0.5, shape=(), dtype=float64)\n",
      "Unique(y=<tf.Tensor: id=32, shape=(3,), dtype=int32, numpy=array([1, 2, 3])>, idx=<tf.Tensor: id=33, shape=(5,), dtype=int32, numpy=array([0, 0, 1, 2, 0])>)\n"
     ]
    }
   ],
   "source": [
    "train_data=tf.constant([[0.7,0.2,0.1],[0.1,0.1,0.8]],dtype=tf.float32)\n",
    "true_data=tf.constant([0,1],dtype=tf.int32)\n",
    "label=tf.cast(tf.argmax(train_data,axis=1),dtype=tf.int32)\n",
    "accruracy=tf.cast(tf.equal(label,true_data),dtype=tf.int32)\n",
    "accruracy=tf.reduce_sum(accruracy)/2\n",
    "print(accruracy)\n",
    "c=tf.constant([1,1,2,3,1])\n",
    "print(tf.unique(c))"
   ],
   "metadata": {
    "collapsed": false,
    "pycharm": {
     "name": "#%%\n"
    }
   }
  },
  {
   "cell_type": "code",
   "execution_count": 5,
   "outputs": [
    {
     "name": "stdout",
     "output_type": "stream",
     "text": [
      "prob: tf.Tensor(\n",
      "[[0.02089704 0.48788154 0.09847528 0.15008931 0.08175372 0.16090317]\n",
      " [0.15530096 0.54295397 0.10459606 0.10212659 0.06432291 0.03069951]\n",
      " [0.04375085 0.11656653 0.7085769  0.04087676 0.07125717 0.01897186]\n",
      " [0.03316064 0.21843824 0.33921888 0.25541568 0.03535736 0.1184093 ]\n",
      " [0.0419951  0.38855508 0.02944962 0.16078113 0.10516834 0.27405074]\n",
      " [0.36071122 0.08212854 0.15907313 0.09643277 0.19430472 0.10734963]\n",
      " [0.13693334 0.3218144  0.07729013 0.12464286 0.19512421 0.1441951 ]\n",
      " [0.02974932 0.0404368  0.26085523 0.013595   0.5315087  0.12385499]\n",
      " [0.11039347 0.2360035  0.06632221 0.30757824 0.05893466 0.22076799]\n",
      " [0.05531292 0.4539122  0.02539081 0.07348789 0.00222803 0.38966808]], shape=(10, 6), dtype=float32)\n"
     ]
    },
    {
     "ename": "TypeError",
     "evalue": "'tensorflow.python.framework.ops.EagerTensor' object is not callable",
     "output_type": "error",
     "traceback": [
      "\u001B[1;31m---------------------------------------------------------------------------\u001B[0m",
      "\u001B[1;31mTypeError\u001B[0m                                 Traceback (most recent call last)",
      "\u001B[1;32m<ipython-input-5-d4eba7d99ed3>\u001B[0m in \u001B[0;36m<module>\u001B[1;34m\u001B[0m\n\u001B[0;32m     20\u001B[0m \u001B[0mprint\u001B[0m\u001B[1;33m(\u001B[0m\u001B[1;34m\"prob:\"\u001B[0m\u001B[1;33m,\u001B[0m\u001B[0mout\u001B[0m\u001B[1;33m)\u001B[0m\u001B[1;33m\u001B[0m\u001B[1;33m\u001B[0m\u001B[0m\n\u001B[0;32m     21\u001B[0m \u001B[0mpred\u001B[0m\u001B[1;33m=\u001B[0m\u001B[0mtf\u001B[0m\u001B[1;33m.\u001B[0m\u001B[0margmax\u001B[0m\u001B[1;33m(\u001B[0m\u001B[0mout\u001B[0m\u001B[1;33m,\u001B[0m\u001B[0maxis\u001B[0m\u001B[1;33m=\u001B[0m\u001B[1;36m1\u001B[0m\u001B[1;33m)\u001B[0m\u001B[1;33m\u001B[0m\u001B[1;33m\u001B[0m\u001B[0m\n\u001B[1;32m---> 22\u001B[1;33m \u001B[0macc\u001B[0m\u001B[1;33m=\u001B[0m\u001B[0maccruracy\u001B[0m\u001B[1;33m(\u001B[0m\u001B[0mout\u001B[0m\u001B[1;33m,\u001B[0m\u001B[0mlabel\u001B[0m\u001B[1;33m,\u001B[0m\u001B[1;33m(\u001B[0m\u001B[1;36m1\u001B[0m\u001B[1;33m,\u001B[0m\u001B[1;36m2\u001B[0m\u001B[1;33m,\u001B[0m\u001B[1;36m3\u001B[0m\u001B[1;33m,\u001B[0m\u001B[1;36m4\u001B[0m\u001B[1;33m,\u001B[0m\u001B[1;36m5\u001B[0m\u001B[1;33m,\u001B[0m\u001B[1;36m6\u001B[0m\u001B[1;33m)\u001B[0m\u001B[1;33m)\u001B[0m\u001B[1;33m\u001B[0m\u001B[1;33m\u001B[0m\u001B[0m\n\u001B[0m\u001B[0;32m     23\u001B[0m \u001B[0mprint\u001B[0m\u001B[1;33m(\u001B[0m\u001B[0macc\u001B[0m\u001B[1;33m)\u001B[0m\u001B[1;33m\u001B[0m\u001B[1;33m\u001B[0m\u001B[0m\n\u001B[0;32m     24\u001B[0m \u001B[1;33m\u001B[0m\u001B[0m\n",
      "\u001B[1;31mTypeError\u001B[0m: 'tensorflow.python.framework.ops.EagerTensor' object is not callable"
     ]
    }
   ],
   "source": [
    "def accuracy(out_put,target,topk=(1,)):\n",
    "    maxk=max(topk)\n",
    "    batch_size=target.shape[0]\n",
    "    pre=tf.math.top_k(out_put,maxk).indices\n",
    "    pre=tf.transpose(pre,perm=[1,0])\n",
    "    target=tf.broadcast_to(target,pre.shape)\n",
    "    correct=tf.equal(pre,target)\n",
    "\n",
    "    res=[]\n",
    "    for k in topk:\n",
    "        correct_k=tf.cast(tf.reshape(correct[:k],[-1]),dtype=tf.float32)\n",
    "        correct_k=tf.reduce_sum(correct_k)\n",
    "        acc=float(correct_k*(100/batch_size))\n",
    "        res.append(acc)\n",
    "    return res\n",
    "\n",
    "out=tf.random.normal([10,6])\n",
    "out=tf.math.softmax(out,axis=1)\n",
    "label=tf.random.uniform([10],maxval=6,dtype=tf.int32,name='label')\n",
    "print(\"prob:\",out)\n",
    "pred=tf.argmax(out,axis=1)\n",
    "acc=accruracy(out,label,(1,2,3,4,5,6))\n",
    "print(acc)"
   ],
   "metadata": {
    "collapsed": false,
    "pycharm": {
     "name": "#%%\n"
    }
   }
  },
  {
   "cell_type": "markdown",
   "source": [
    "填充和复制\n"
   ],
   "metadata": {
    "collapsed": false,
    "pycharm": {
     "name": "#%% md\n"
    }
   }
  },
  {
   "cell_type": "code",
   "execution_count": 1,
   "outputs": [
    {
     "ename": "NameError",
     "evalue": "name 'tf' is not defined",
     "output_type": "error",
     "traceback": [
      "\u001B[1;31m---------------------------------------------------------------------------\u001B[0m",
      "\u001B[1;31mNameError\u001B[0m                                 Traceback (most recent call last)",
      "\u001B[1;32m<ipython-input-1-6ace88882005>\u001B[0m in \u001B[0;36m<module>\u001B[1;34m\u001B[0m\n\u001B[1;32m----> 1\u001B[1;33m \u001B[0maa\u001B[0m\u001B[1;33m=\u001B[0m\u001B[0mtf\u001B[0m\u001B[1;33m.\u001B[0m\u001B[0mpad\u001B[0m\u001B[1;33m(\u001B[0m\u001B[0ma\u001B[0m\u001B[1;33m,\u001B[0m\u001B[1;33m[\u001B[0m\u001B[1;33m[\u001B[0m\u001B[1;36m0\u001B[0m\u001B[1;33m,\u001B[0m\u001B[1;36m0\u001B[0m\u001B[1;33m]\u001B[0m\u001B[1;33m,\u001B[0m\u001B[1;33m[\u001B[0m\u001B[1;36m1\u001B[0m\u001B[1;33m,\u001B[0m\u001B[1;36m1\u001B[0m\u001B[1;33m]\u001B[0m\u001B[1;33m,\u001B[0m\u001B[1;33m[\u001B[0m\u001B[1;36m1\u001B[0m\u001B[1;33m,\u001B[0m\u001B[1;36m1\u001B[0m\u001B[1;33m]\u001B[0m\u001B[1;33m]\u001B[0m\u001B[1;33m)\u001B[0m\u001B[1;33m\u001B[0m\u001B[1;33m\u001B[0m\u001B[0m\n\u001B[0m\u001B[0;32m      2\u001B[0m \u001B[0mprint\u001B[0m\u001B[1;33m(\u001B[0m\u001B[0maa\u001B[0m\u001B[1;33m)\u001B[0m\u001B[1;33m\u001B[0m\u001B[1;33m\u001B[0m\u001B[0m\n\u001B[0;32m      3\u001B[0m \u001B[0mbb\u001B[0m\u001B[1;33m=\u001B[0m\u001B[0mtf\u001B[0m\u001B[1;33m.\u001B[0m\u001B[0mtile\u001B[0m\u001B[1;33m(\u001B[0m\u001B[0mb\u001B[0m\u001B[1;33m,\u001B[0m\u001B[1;33m[\u001B[0m\u001B[1;36m2\u001B[0m\u001B[1;33m,\u001B[0m\u001B[1;36m1\u001B[0m\u001B[1;33m,\u001B[0m\u001B[1;36m1\u001B[0m\u001B[1;33m]\u001B[0m\u001B[1;33m)\u001B[0m\u001B[1;33m\u001B[0m\u001B[1;33m\u001B[0m\u001B[0m\n\u001B[0;32m      4\u001B[0m \u001B[0mprint\u001B[0m\u001B[1;33m(\u001B[0m\u001B[0mbb\u001B[0m\u001B[1;33m.\u001B[0m\u001B[0mshape\u001B[0m\u001B[1;33m)\u001B[0m\u001B[1;33m\u001B[0m\u001B[1;33m\u001B[0m\u001B[0m\n\u001B[0;32m      5\u001B[0m \u001B[1;33m\u001B[0m\u001B[0m\n",
      "\u001B[1;31mNameError\u001B[0m: name 'tf' is not defined"
     ]
    }
   ],
   "source": [
    "aa=tf.pad(a,[[0,0],[1,1],[1,1]])\n",
    "print(aa)\n",
    "bb=tf.tile(b,[2,1,1])\n",
    "print(bb.shape)"
   ],
   "metadata": {
    "collapsed": false,
    "pycharm": {
     "name": "#%%\n"
    }
   }
  },
  {
   "cell_type": "markdown",
   "source": [
    "张量限幅\n"
   ],
   "metadata": {
    "collapsed": false,
    "pycharm": {
     "name": "#%% md\n"
    }
   }
  },
  {
   "cell_type": "code",
   "execution_count": null,
   "outputs": [],
   "source": [
    "nums=tf.range(10,dtype=tf.int32)\n",
    "print(tf.maximum(nums,3))"
   ],
   "metadata": {
    "collapsed": false,
    "pycharm": {
     "name": "#%%\n"
    }
   }
  },
  {
   "cell_type": "code",
   "execution_count": null,
   "outputs": [],
   "source": [
    "c=tf.random.normal([3,3],dtype=tf.float32)\n",
    "print(c)\n",
    "mask=c>0\n",
    "print(mask)\n",
    "indices=tf.where(mask)\n",
    "print(indices)\n",
    "res=tf.gather_nd(c,indices=indices)\n",
    "print(res)"
   ],
   "metadata": {
    "collapsed": false,
    "pycharm": {
     "name": "#%%\n"
    }
   }
  },
  {
   "cell_type": "code",
   "execution_count": 15,
   "outputs": [
    {
     "name": "stdout",
     "output_type": "stream",
     "text": [
      "tf.Tensor(\n",
      "[[-1.8185948  -1.7507684  -0.9092974  -0.06782645  0.        ]\n",
      " [-1.7507684  -1.6829419  -0.84147096  0.          0.06782645]\n",
      " [-0.9092974  -0.84147096  0.          0.84147096  0.9092974 ]\n",
      " [-0.06782645  0.          0.84147096  1.6829419   1.7507684 ]\n",
      " [ 0.          0.06782645  0.9092974   1.7507684   1.8185948 ]], shape=(5, 5), dtype=float32)\n"
     ]
    },
    {
     "data": {
      "text/plain": "<Figure size 432x288 with 2 Axes>",
      "image/png": "[encoded data removed]"
     },
     "metadata": {
      "needs_background": "light"
     },
     "output_type": "display_data"
    },
    {
     "data": {
      "text/plain": "<Figure size 432x288 with 2 Axes>",
      "image/png": "[encoded data removed]"
     },
     "metadata": {
      "needs_background": "light"
     },
     "output_type": "display_data"
    }
   ],
   "source": [
    "import matplotlib.pyplot as plt\n",
    "def fun(x):\n",
    "    z=tf.math.sin(x[...,0])+tf.math.sin(x[...,1])\n",
    "    return z\n",
    "\n",
    "x=tf.linspace(-2.,2,5)\n",
    "y=tf.linspace(-2.,2,5)\n",
    "pointx,pointy=tf.meshgrid(x,y)\n",
    "points=tf.stack([pointx,pointy],axis=2)\n",
    "z=fun(points)\n",
    "print(z)\n",
    "plt.figure('plot 2d func value')\n",
    "plt.imshow(z,origin='lower',interpolation='none')\n",
    "plt.colorbar()\n",
    "plt.figure('plot 2d func,contour')\n",
    "plt.contour(pointx,pointy,z)\n",
    "plt.colorbar()\n",
    "plt.show()"
   ],
   "metadata": {
    "collapsed": false,
    "pycharm": {
     "name": "#%%\n"
    }
   }
  }
 ],
 "metadata": {
  "kernelspec": {
   "name": "pycharm-368948a5",
   "language": "python",
   "display_name": "PyCharm (opencv)"
  },
  "language_info": {
   "codemirror_mode": {
    "name": "ipython",
    "version": 2
   },
   "file_extension": ".py",
   "mimetype": "text/x-python",
   "name": "python",
   "nbconvert_exporter": "python",
   "pygments_lexer": "ipython2",
   "version": "2.7.6"
  }
 },
 "nbformat": 4,
 "nbformat_minor": 0
}