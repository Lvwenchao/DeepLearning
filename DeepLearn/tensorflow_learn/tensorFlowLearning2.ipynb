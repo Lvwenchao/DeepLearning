{
 "cells": [
  {
   "cell_type": "markdown",
   "source": [
    "merge and split\n"
   ],
   "metadata": {
    "collapsed": false,
    "pycharm": {
     "name": "#%% md\n"
    }
   }
  },
  {
   "cell_type": "code",
   "execution_count": 2,
   "outputs": [],
   "source": [
    "import tensorflow as tf\n",
    "import numpy as np"
   ],
   "metadata": {
    "collapsed": false,
    "pycharm": {
     "name": "#%%\n"
    }
   }
  },
  {
   "cell_type": "code",
   "execution_count": 3,
   "outputs": [],
   "source": [
    "a=tf.ones([2,3,4])\n",
    "b=tf.ones([2,3,4])"
   ],
   "metadata": {
    "collapsed": false,
    "pycharm": {
     "name": "#%%\n"
    }
   }
  },
  {
   "cell_type": "code",
   "execution_count": 4,
   "outputs": [
    {
     "name": "stdout",
     "output_type": "stream",
     "text": [
      "(2, 2, 3, 4)\n",
      "4\n",
      "[<tf.Tensor: shape=(2, 2, 3, 1), dtype=float32, numpy=\n",
      "array([[[[1.],\n",
      "         [1.],\n",
      "         [1.]],\n",
      "\n",
      "        [[1.],\n",
      "         [1.],\n",
      "         [1.]]],\n",
      "\n",
      "\n",
      "       [[[1.],\n",
      "         [1.],\n",
      "         [1.]],\n",
      "\n",
      "        [[1.],\n",
      "         [1.],\n",
      "         [1.]]]], dtype=float32)>, <tf.Tensor: shape=(2, 2, 3, 1), dtype=float32, numpy=\n",
      "array([[[[1.],\n",
      "         [1.],\n",
      "         [1.]],\n",
      "\n",
      "        [[1.],\n",
      "         [1.],\n",
      "         [1.]]],\n",
      "\n",
      "\n",
      "       [[[1.],\n",
      "         [1.],\n",
      "         [1.]],\n",
      "\n",
      "        [[1.],\n",
      "         [1.],\n",
      "         [1.]]]], dtype=float32)>, <tf.Tensor: shape=(2, 2, 3, 2), dtype=float32, numpy=\n",
      "array([[[[1., 1.],\n",
      "         [1., 1.],\n",
      "         [1., 1.]],\n",
      "\n",
      "        [[1., 1.],\n",
      "         [1., 1.],\n",
      "         [1., 1.]]],\n",
      "\n",
      "\n",
      "       [[[1., 1.],\n",
      "         [1., 1.],\n",
      "         [1., 1.]],\n",
      "\n",
      "        [[1., 1.],\n",
      "         [1., 1.],\n",
      "         [1., 1.]]]], dtype=float32)>]\n"
     ]
    }
   ],
   "source": [
    "c=tf.concat([a,b],axis=0)\n",
    "c=tf.stack([a,b],axis=0)\n",
    "print(c.shape)\n",
    "c_unstack=tf.unstack(c,axis=3)\n",
    "print(len(c_unstack))\n",
    "c_split=tf.split(c,axis=3,num_or_size_splits=[1,1,2])\n",
    "print(c_split)"
   ],
   "metadata": {
    "collapsed": false,
    "pycharm": {
     "name": "#%%\n"
    }
   }
  },
  {
   "cell_type": "code",
   "execution_count": 5,
   "outputs": [
    {
     "name": "stdout",
     "output_type": "stream",
     "text": [
      "tf.Tensor(0.5, shape=(), dtype=float64)\n",
      "Unique(y=<tf.Tensor: shape=(3,), dtype=int32, numpy=array([1, 2, 3])>, idx=<tf.Tensor: shape=(5,), dtype=int32, numpy=array([0, 0, 1, 2, 0])>)\n"
     ]
    }
   ],
   "source": [
    "train_data=tf.constant([[0.7,0.2,0.1],[0.1,0.1,0.8]],dtype=tf.float32)\n",
    "true_data=tf.constant([0,1],dtype=tf.int32)\n",
    "label=tf.cast(tf.argmax(train_data,axis=1),dtype=tf.int32)\n",
    "accruracy=tf.cast(tf.equal(label,true_data),dtype=tf.int32)\n",
    "accruracy=tf.reduce_sum(accruracy)/2\n",
    "print(accruracy)\n",
    "c=tf.constant([1,1,2,3,1])\n",
    "print(tf.unique(c))"
   ],
   "metadata": {
    "collapsed": false,
    "pycharm": {
     "name": "#%%\n"
    }
   }
  },
  {
   "cell_type": "code",
   "execution_count": 6,
   "outputs": [
    {
     "name": "stdout",
     "output_type": "stream",
     "text": [
      "prob: tf.Tensor(\n",
      "[[0.16546652 0.17959327 0.10326803 0.42030025 0.09262563 0.03874625]\n",
      " [0.09391136 0.03578986 0.1779321  0.34303388 0.20853497 0.1407978 ]\n",
      " [0.3019856  0.10071753 0.20770648 0.19023749 0.17044051 0.02891237]\n",
      " [0.37321362 0.19475278 0.03564801 0.10379332 0.18259259 0.10999975]\n",
      " [0.1294495  0.08144693 0.03701284 0.41795623 0.2316683  0.10246632]\n",
      " [0.26111633 0.06045714 0.09316215 0.12167425 0.3302464  0.13334373]\n",
      " [0.2731382  0.12983906 0.13506168 0.16866347 0.03921055 0.25408706]\n",
      " [0.07051637 0.41651216 0.14677638 0.24933696 0.09491102 0.0219471 ]\n",
      " [0.07879455 0.2280074  0.351584   0.0239903  0.07119715 0.24642667]\n",
      " [0.01259253 0.10356585 0.0555944  0.511142   0.03188717 0.28521806]], shape=(10, 6), dtype=float32)\n"
     ]
    },
    {
     "ename": "TypeError",
     "evalue": "'tensorflow.python.framework.ops.EagerTensor' object is not callable",
     "output_type": "error",
     "traceback": [
      "\u001B[1;31m---------------------------------------------------------------------------\u001B[0m",
      "\u001B[1;31mTypeError\u001B[0m                                 Traceback (most recent call last)",
      "\u001B[1;32m<ipython-input-6-d4eba7d99ed3>\u001B[0m in \u001B[0;36m<module>\u001B[1;34m\u001B[0m\n\u001B[0;32m     20\u001B[0m \u001B[0mprint\u001B[0m\u001B[1;33m(\u001B[0m\u001B[1;34m\"prob:\"\u001B[0m\u001B[1;33m,\u001B[0m\u001B[0mout\u001B[0m\u001B[1;33m)\u001B[0m\u001B[1;33m\u001B[0m\u001B[1;33m\u001B[0m\u001B[0m\n\u001B[0;32m     21\u001B[0m \u001B[0mpred\u001B[0m\u001B[1;33m=\u001B[0m\u001B[0mtf\u001B[0m\u001B[1;33m.\u001B[0m\u001B[0margmax\u001B[0m\u001B[1;33m(\u001B[0m\u001B[0mout\u001B[0m\u001B[1;33m,\u001B[0m\u001B[0maxis\u001B[0m\u001B[1;33m=\u001B[0m\u001B[1;36m1\u001B[0m\u001B[1;33m)\u001B[0m\u001B[1;33m\u001B[0m\u001B[1;33m\u001B[0m\u001B[0m\n\u001B[1;32m---> 22\u001B[1;33m \u001B[0macc\u001B[0m\u001B[1;33m=\u001B[0m\u001B[0maccruracy\u001B[0m\u001B[1;33m(\u001B[0m\u001B[0mout\u001B[0m\u001B[1;33m,\u001B[0m\u001B[0mlabel\u001B[0m\u001B[1;33m,\u001B[0m\u001B[1;33m(\u001B[0m\u001B[1;36m1\u001B[0m\u001B[1;33m,\u001B[0m\u001B[1;36m2\u001B[0m\u001B[1;33m,\u001B[0m\u001B[1;36m3\u001B[0m\u001B[1;33m,\u001B[0m\u001B[1;36m4\u001B[0m\u001B[1;33m,\u001B[0m\u001B[1;36m5\u001B[0m\u001B[1;33m,\u001B[0m\u001B[1;36m6\u001B[0m\u001B[1;33m)\u001B[0m\u001B[1;33m)\u001B[0m\u001B[1;33m\u001B[0m\u001B[1;33m\u001B[0m\u001B[0m\n\u001B[0m\u001B[0;32m     23\u001B[0m \u001B[0mprint\u001B[0m\u001B[1;33m(\u001B[0m\u001B[0macc\u001B[0m\u001B[1;33m)\u001B[0m\u001B[1;33m\u001B[0m\u001B[1;33m\u001B[0m\u001B[0m\n\u001B[0;32m     24\u001B[0m \u001B[1;33m\u001B[0m\u001B[0m\n",
      "\u001B[1;31mTypeError\u001B[0m: 'tensorflow.python.framework.ops.EagerTensor' object is not callable"
     ]
    }
   ],
   "source": [
    "def accuracy(out_put,target,topk=(1,)):\n",
    "    maxk=max(topk)\n",
    "    batch_size=target.shape[0]\n",
    "    pre=tf.math.top_k(out_put,maxk).indices\n",
    "    pre=tf.transpose(pre,perm=[1,0])\n",
    "    target=tf.broadcast_to(target,pre.shape)\n",
    "    correct=tf.equal(pre,target)\n",
    "\n",
    "    res=[]\n",
    "    for k in topk:\n",
    "        correct_k=tf.cast(tf.reshape(correct[:k],[-1]),dtype=tf.float32)\n",
    "        correct_k=tf.reduce_sum(correct_k)\n",
    "        acc=float(correct_k*(100/batch_size))\n",
    "        res.append(acc)\n",
    "    return res\n",
    "\n",
    "out=tf.random.normal([10,6])\n",
    "out=tf.math.softmax(out,axis=1)\n",
    "label=tf.random.uniform([10],maxval=6,dtype=tf.int32,name='label')\n",
    "print(\"prob:\",out)\n",
    "pred=tf.argmax(out,axis=1)\n",
    "acc=accruracy(out,label,(1,2,3,4,5,6))\n",
    "print(acc)"
   ],
   "metadata": {
    "collapsed": false,
    "pycharm": {
     "name": "#%%\n"
    }
   }
  },
  {
   "cell_type": "markdown",
   "source": [
    "填充和复制\n"
   ],
   "metadata": {
    "collapsed": false,
    "pycharm": {
     "name": "#%% md\n"
    }
   }
  },
  {
   "cell_type": "code",
   "execution_count": null,
   "outputs": [],
   "source": [
    "aa=tf.pad(a,[[0,0],[1,1],[1,1]])\n",
    "print(aa)\n",
    "bb=tf.tile(b,[2,1,1])\n",
    "print(bb.shape)"
   ],
   "metadata": {
    "collapsed": false,
    "pycharm": {
     "name": "#%%\n"
    }
   }
  },
  {
   "cell_type": "markdown",
   "source": [
    "张量限幅\n"
   ],
   "metadata": {
    "collapsed": false,
    "pycharm": {
     "name": "#%% md\n"
    }
   }
  },
  {
   "cell_type": "code",
   "execution_count": null,
   "outputs": [],
   "source": [
    "nums=tf.range(10,dtype=tf.int32)\n",
    "print(tf.maximum(nums,3))"
   ],
   "metadata": {
    "collapsed": false,
    "pycharm": {
     "name": "#%%\n"
    }
   }
  },
  {
   "cell_type": "code",
   "execution_count": null,
   "outputs": [],
   "source": [
    "c=tf.random.normal([3,3],dtype=tf.float32)\n",
    "print(c)\n",
    "mask=c>0\n",
    "print(mask)\n",
    "indices=tf.where(mask)\n",
    "print(indices)\n",
    "res=tf.gather_nd(c,indices=indices)\n",
    "print(res)"
   ],
   "metadata": {
    "collapsed": false,
    "pycharm": {
     "name": "#%%\n"
    }
   }
  },
  {
   "cell_type": "code",
   "execution_count": null,
   "outputs": [],
   "source": [
    "import matplotlib.pyplot as plt\n",
    "def fun(x):\n",
    "    z=tf.math.sin(x[...,0])+tf.math.sin(x[...,1])\n",
    "    return z\n",
    "\n",
    "x=tf.linspace(-2.,2,5)\n",
    "y=tf.linspace(-2.,2,5)\n",
    "pointx,pointy=tf.meshgrid(x,y)\n",
    "points=tf.stack([pointx,pointy],axis=2)\n",
    "z=fun(points)\n",
    "print(z)\n",
    "plt.figure('plot 2d func value')\n",
    "plt.imshow(z,origin='lower',interpolation='none')\n",
    "plt.colorbar()\n",
    "plt.figure('plot 2d func,contour')\n",
    "plt.contour(pointx,pointy,z)\n",
    "plt.colorbar()\n",
    "plt.show()"
   ],
   "metadata": {
    "collapsed": false,
    "pycharm": {
     "name": "#%%\n"
    }
   }
  },
  {
   "cell_type": "markdown",
   "source": [
    "不规则索引\n",
    "\n"
   ],
   "metadata": {
    "collapsed": false
   }
  },
  {
   "cell_type": "code",
   "execution_count": 20,
   "outputs": [
    {
     "name": "stdout",
     "output_type": "stream",
     "text": [
      "tf.Tensor(\n",
      "[[6 9]\n",
      " [7 1]\n",
      " [5 1]], shape=(3, 2), dtype=int32)\n"
     ]
    }
   ],
   "source": [
    "data=tf.random.uniform((4,35,8),maxval=10,dtype=tf.int32)\n",
    "# 第1,3个班，四\n",
    "data_select=tf.gather_nd(data,[[[0,3,2],[0,7,4]],[[1,7,0],[1,3,1]],[[2,2,1],[2,3,0]]])\n",
    "print(data_select)"
   ],
   "metadata": {
    "collapsed": false,
    "pycharm": {
     "name": "#%%\n"
    }
   }
  }
 ],
 "metadata": {
  "kernelspec": {
   "name": "pycharm-368948a5",
   "language": "python",
   "display_name": "PyCharm (opencv)"
  },
  "language_info": {
   "codemirror_mode": {
    "name": "ipython",
    "version": 2
   },
   "file_extension": ".py",
   "mimetype": "text/x-python",
   "name": "python",
   "nbconvert_exporter": "python",
   "pygments_lexer": "ipython2",
   "version": "2.7.6"
  }
 },
 "nbformat": 4,
 "nbformat_minor": 0
}