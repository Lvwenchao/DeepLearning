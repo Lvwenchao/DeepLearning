{
 "cells": [
  {
   "cell_type": "markdown",
   "source": [
    "### 7.labmda函数\n"
   ],
   "metadata": {
    "collapsed": false,
    "pycharm": {
     "name": "#%% md\n"
    }
   }
  },
  {
   "cell_type": "code",
   "execution_count": 2,
   "outputs": [
    {
     "name": "stdout",
     "output_type": "stream",
     "text": [
      "5\n"
     ]
    }
   ],
   "source": [
    "def add(x):\n",
    "    return lambda y:x+y\n",
    "\n",
    "x = add(2) # lamdba y:2+y\n",
    "print(x(3))"
   ],
   "metadata": {
    "collapsed": false,
    "pycharm": {
     "name": "#%%\n"
    }
   }
  },
  {
   "cell_type": "markdown",
   "source": [
    "### 8.map(),filter()\n"
   ],
   "metadata": {
    "collapsed": false,
    "pycharm": {
     "name": "#%% md\n"
    }
   }
  },
  {
   "cell_type": "code",
   "execution_count": 10,
   "outputs": [
    {
     "name": "stdout",
     "output_type": "stream",
     "text": [
      "[3, 4, 5, 6, 7, 8, 9, 10, 11, 12]\n",
      "[10, 7, 11, 10, 8, 17, 12, 19, 20, 18]\n",
      "[4]\n"
     ]
    }
   ],
   "source": [
    "import random\n",
    "\n",
    "nums=[x for x in range(10)]\n",
    "nums2=[random.randint(1,10) for x in range(10)]\n",
    "nums=list(map(lambda x:x+3,nums))\n",
    "print(nums)\n",
    "addnums=list(map(lambda x,y:x+y,nums,nums2))\n",
    "print(addnums)\n",
    "\n",
    "num3=filter(lambda x:(x+3==7),nums)\n",
    "print(list(num3))"
   ],
   "metadata": {
    "collapsed": false,
    "pycharm": {
     "name": "#%%\n"
    }
   }
  },
  {
   "cell_type": "markdown",
   "metadata": {
    "collapsed": true,
    "pycharm": {
     "name": "#%% md\n"
    }
   },
   "source": [
    "### 1.迭代器\n",
    "迭代器本身需要继承iterator\n",
    "生成迭代器需要继承iteratable"
   ]
  },
  {
   "cell_type": "code",
   "execution_count": 7,
   "outputs": [],
   "source": [
    "from collections import Iterable,Iterator"
   ],
   "metadata": {
    "collapsed": false,
    "pycharm": {
     "name": "#%%\n"
    }
   }
  },
  {
   "cell_type": "code",
   "execution_count": 8,
   "outputs": [
    {
     "name": "stdout",
     "output_type": "stream",
     "text": [
      "1\n",
      "2\n",
      "3\n",
      "4\n"
     ]
    }
   ],
   "source": [
    "class Nums(Iterator):\n",
    "    def __init__(self,nums):\n",
    "        super(Nums, self).__init__()\n",
    "        self.nums=nums\n",
    "        self.index=0\n",
    "\n",
    "    def __next__(self):\n",
    "        if self.index==len(self.nums):\n",
    "            raise StopIteration\n",
    "        num = self.nums[self.index]\n",
    "        self.index+=1\n",
    "        return num\n",
    "\n",
    "class GetNumIterable(Iterable):\n",
    "    def __init__(self,nums):\n",
    "        super(GetNumIterable, self).__init__()\n",
    "        self.nums=nums\n",
    "\n",
    "    def __iter__(self):\n",
    "        return Nums(self.nums)\n",
    "\n",
    "\n",
    "\n",
    "\n",
    "num_list = Nums([1,2,3,4])\n",
    "for num in num_list:\n",
    "    print(num)"
   ],
   "metadata": {
    "collapsed": false,
    "pycharm": {
     "name": "#%%\n"
    }
   }
  },
  {
   "cell_type": "markdown",
   "source": [
    "### 2.对于上述，是在迭代生成器里面返回迭代器，也可通过yield生成迭代器逻辑"
   ],
   "metadata": {
    "collapsed": false,
    "pycharm": {
     "name": "#%% md\n"
    }
   }
  },
  {
   "cell_type": "code",
   "execution_count": 12,
   "outputs": [
    {
     "name": "stdout",
     "output_type": "stream",
     "text": [
      "1\n",
      "2\n",
      "3\n",
      "4\n"
     ]
    }
   ],
   "source": [
    "class GetData(Iterable):\n",
    "    def __init__(self,nums):\n",
    "        super(GetData, self).__init__()\n",
    "        self.nums=nums\n",
    "\n",
    "    def __iter__(self):\n",
    "        for i in self.nums:\n",
    "            yield i\n",
    "\n",
    "    def __reversed__(self):\n",
    "        t = len(self.nums)-1\n",
    "        while t>=0:\n",
    "            yield self.nums[t]\n",
    "            t-=1\n",
    "\n",
    "\n",
    "num_list = GetData([1,2,3,4])\n",
    "for num in num_list:\n",
    "    print(num)"
   ],
   "metadata": {
    "collapsed": false,
    "pycharm": {
     "name": "#%%\n"
    }
   }
  },
  {
   "cell_type": "markdown",
   "source": [
    "### 3.reverse函数\n",
    "比如对于list，list.reverse可以得到反向列表，自定义反向迭代器则需要重写reverse"
   ],
   "metadata": {
    "collapsed": false,
    "pycharm": {
     "name": "#%% md\n"
    }
   }
  },
  {
   "cell_type": "code",
   "execution_count": 14,
   "outputs": [
    {
     "name": "stdout",
     "output_type": "stream",
     "text": [
      "4\n",
      "3\n",
      "2\n",
      "1\n"
     ]
    }
   ],
   "source": [
    "for i in reversed(num_list):\n",
    "    print(i)\n"
   ],
   "metadata": {
    "collapsed": false,
    "pycharm": {
     "name": "#%%\n"
    }
   }
  },
  {
   "cell_type": "markdown",
   "source": [
    "迭代器的切片操作\n",
    "islice(iterator,star,end)"
   ],
   "metadata": {
    "collapsed": false,
    "pycharm": {
     "name": "#%% md\n"
    }
   }
  },
  {
   "cell_type": "code",
   "execution_count": 16,
   "outputs": [
    {
     "name": "stdout",
     "output_type": "stream",
     "text": [
      "1\n",
      "2\n",
      "3\n"
     ]
    }
   ],
   "source": [
    "from itertools import islice\n",
    "for x in islice(num_list,0,3):\n",
    "    print(x)\n"
   ],
   "metadata": {
    "collapsed": false,
    "pycharm": {
     "name": "#%%\n"
    }
   }
  },
  {
   "cell_type": "markdown",
   "source": [
    "### 4、zip() 方法\n",
    "对两个列表提取同一索引的两个值，所有要求两个列表的长度一致"
   ],
   "metadata": {
    "collapsed": false,
    "pycharm": {
     "name": "#%% md\n"
    }
   }
  },
  {
   "cell_type": "code",
   "execution_count": 18,
   "outputs": [
    {
     "name": "stdout",
     "output_type": "stream",
     "text": [
      "[23, 28, 19, 21, 22, 30, 25, 19, 26, 17, 12, 21, 27, 21, 18, 17, 23, 20, 30, 17]\n"
     ]
    }
   ],
   "source": [
    "import random\n",
    "a=[random.randint(1,10) for x in range(20)]\n",
    "b=[random.randint(10,20) for x in range(20)]\n",
    "total=[]\n",
    "for x,y in zip(a,b):\n",
    "    num=x+y\n",
    "    total.append(num)\n",
    "print(total)\n"
   ],
   "metadata": {
    "collapsed": false,
    "pycharm": {
     "name": "#%%\n"
    }
   }
  },
  {
   "cell_type": "markdown",
   "source": [
    "### 5.正则表达式\n",
    "+ \\d 匹配单个数字\n",
    "+ +匹配多次\n",
    "+ \\b 匹配边界副（空格）\n",
    "+ \\D 匹配非数字\n",
    "+ .匹配任意字符\n",
    "- []匹配括号里的内容\n",
    "+ split(pattern,s] 对s按照pattern进行分割\n",
    "+ re.sub() 调整组的顺序\n",
    "+ ?P<name> 给组命名，\\g<name>指向该组"
   ],
   "metadata": {
    "collapsed": false,
    "pycharm": {
     "name": "#%% md\n"
    }
   }
  },
  {
   "cell_type": "code",
   "execution_count": 31,
   "outputs": [
    {
     "name": "stdout",
     "output_type": "stream",
     "text": [
      "['18671246386']\n",
      "['adadas', 'sdads', 'asdasdas', 'tasdasd']\n",
      "2020-08-23\n",
      "23/08/2020\n"
     ]
    }
   ],
   "source": [
    "import re\n",
    "tele_num=\"18671246386\"\n",
    "print(re.findall(r'\\d{11}',tele_num))\n",
    "s = \"adadas|sdads,asdasdas/tasdasd\"\n",
    "print(re.split(r'[|,/+]',s))\n",
    "date ='2020-08-23'\n",
    "result=re.sub(r'(\\d{4})-({\\d{2})-(\\d{2})',r'\\2/\\1/\\3',date)\n",
    "print(result)\n",
    "result=re.sub(r'(?P<year>\\d{4})-(?P<month>\\d{2})-(?P<day>\\d{2})',r'\\g<day>/\\g<month>/\\g<year>',date)\n",
    "print(result)\n"
   ],
   "metadata": {
    "collapsed": false,
    "pycharm": {
     "name": "#%%\n"
    }
   }
  },
  {
   "cell_type": "markdown",
   "source": [
    "### 6.json数据"
   ],
   "metadata": {
    "collapsed": false,
    "pycharm": {
     "name": "#%% md\n"
    }
   }
  },
  {
   "cell_type": "code",
   "execution_count": 37,
   "outputs": [
    {
     "name": "stdout",
     "output_type": "stream",
     "text": [
      "[1, 2, 3, 4]\n",
      "<class 'str'>\n"
     ]
    }
   ],
   "source": [
    "import json\n",
    "a=[1,2,3,4]\n",
    "a_json=json.dumps(a)\n",
    "print(a_json)\n",
    "print(type(a_json))"
   ],
   "metadata": {
    "collapsed": false,
    "pycharm": {
     "name": "#%%\n"
    }
   }
  },
  {
   "cell_type": "markdown",
   "source": [
    "### 7.time"
   ],
   "metadata": {
    "collapsed": false,
    "pycharm": {
     "name": "#%% md\n"
    }
   }
  },
  {
   "cell_type": "code",
   "execution_count": 1,
   "outputs": [
    {
     "name": "stdout",
     "output_type": "stream",
     "text": [
      "1598804531.176238\n"
     ]
    }
   ],
   "source": [
    "import time\n",
    "print(time.time())\n"
   ],
   "metadata": {
    "collapsed": false,
    "pycharm": {
     "name": "#%%\n"
    }
   }
  }
 ],
 "metadata": {
  "kernelspec": {
   "display_name": "Python 3",
   "language": "python",
   "name": "python3"
  },
  "language_info": {
   "codemirror_mode": {
    "name": "ipython",
    "version": 2
   },
   "file_extension": ".py",
   "mimetype": "text/x-python",
   "name": "python",
   "nbconvert_exporter": "python",
   "pygments_lexer": "ipython2",
   "version": "2.7.6"
  }
 },
 "nbformat": 4,
 "nbformat_minor": 0
}