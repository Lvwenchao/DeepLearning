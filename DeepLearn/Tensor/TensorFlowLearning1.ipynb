{
 "cells": [
  {
   "cell_type": "code",
   "execution_count": 1,
   "outputs": [],
   "source": [
    "import tensorflow as tf\n",
    "import numpy as np"
   ],
   "metadata": {
    "collapsed": false,
    "pycharm": {
     "name": "#%%\n"
    }
   }
  },
  {
   "cell_type": "markdown",
   "metadata": {
    "collapsed": true,
    "pycharm": {
     "name": "#%% md\n"
    }
   },
   "source": [
    "1.dateType of tensorFlow"
   ]
  },
  {
   "cell_type": "code",
   "execution_count": 2,
   "outputs": [
    {
     "name": "stdout",
     "output_type": "stream",
     "text": [
      "tf.Tensor(1.0, shape=(), dtype=float32)\n",
      "0\n",
      "/job:localhost/replica:0/task:0/device:CPU:0\n"
     ]
    }
   ],
   "source": [
    "a=tf.constant(1.)\n",
    "print(a)\n",
    "print(a.ndim)\n",
    "print(a.device)"
   ],
   "metadata": {
    "collapsed": false,
    "pycharm": {
     "name": "#%%\n"
    }
   }
  },
  {
   "cell_type": "markdown",
   "source": [
    "2.create tensor\n"
   ],
   "metadata": {
    "collapsed": false,
    "pycharm": {
     "name": "#%% md\n"
    }
   }
  },
  {
   "cell_type": "code",
   "execution_count": 3,
   "outputs": [
    {
     "name": "stdout",
     "output_type": "stream",
     "text": [
      "tf.Tensor([0. 1. 2. 3. 4.], shape=(5,), dtype=float32)\n",
      "tf.Tensor([0 1 2 3 4], shape=(5,), dtype=int32)\n",
      "name:test_arg:0\n"
     ]
    }
   ],
   "source": [
    "b=np.arange(5)\n",
    "bb=tf.convert_to_tensor(b,dtype=tf.float32)\n",
    "print(bb)\n",
    "bbb=tf.cast(bb,dtype=tf.int32)\n",
    "print(bbb)\n",
    "b_var=tf.Variable(bb,name='test_arg')\n",
    "print(\"name:\"+b_var.name)"
   ],
   "metadata": {
    "collapsed": false,
    "pycharm": {
     "name": "#%%\n"
    }
   }
  },
  {
   "cell_type": "code",
   "execution_count": 4,
   "outputs": [
    {
     "name": "stdout",
     "output_type": "stream",
     "text": [
      "tf.Tensor(\n",
      "[[[0 0 0]\n",
      "  [0 0 0]\n",
      "  [0 0 0]]\n",
      "\n",
      " [[0 0 0]\n",
      "  [0 0 0]\n",
      "  [0 0 0]]], shape=(2, 3, 3), dtype=int32)\n",
      "tf.Tensor(\n",
      "[[[1 1 1]\n",
      "  [1 1 1]\n",
      "  [1 1 1]]\n",
      "\n",
      " [[1 1 1]\n",
      "  [1 1 1]\n",
      "  [1 1 1]]], shape=(2, 3, 3), dtype=int32)\n",
      "tf.Tensor(\n",
      "[[[9 9 9]\n",
      "  [9 9 9]\n",
      "  [9 9 9]]\n",
      "\n",
      " [[9 9 9]\n",
      "  [9 9 9]\n",
      "  [9 9 9]]], shape=(2, 3, 3), dtype=int32)\n"
     ]
    }
   ],
   "source": [
    "c=tf.zeros([2,3,3],dtype=tf.int32)\n",
    "d=tf.zeros_like(c)\n",
    "print(d)\n",
    "c=tf.ones([2,3,3],dtype=tf.int32)\n",
    "print(c)\n",
    "d=tf.fill([2,3,3],9)\n",
    "print(d)"
   ],
   "metadata": {
    "collapsed": false,
    "pycharm": {
     "name": "#%%\n"
    }
   }
  },
  {
   "cell_type": "code",
   "execution_count": 5,
   "outputs": [
    {
     "name": "stdout",
     "output_type": "stream",
     "text": [
      "tf.Tensor([0.30537978 0.43311563 0.44157267 0.429691  ], shape=(4,), dtype=float32)\n",
      "tf.Tensor(0.40243974, shape=(), dtype=float32)\n"
     ]
    }
   ],
   "source": [
    "out=tf.random.uniform([4,10],name='out')\n",
    "y=tf.range(4)\n",
    "y=tf.one_hot(y,depth=10)\n",
    "loss=tf.keras.losses.MSE(y,out)\n",
    "print(loss)\n",
    "loss=tf.reduce_mean(loss)\n",
    "print(loss)\n"
   ],
   "metadata": {
    "collapsed": false,
    "pycharm": {
     "name": "#%%\n"
    }
   }
  },
  {
   "cell_type": "code",
   "execution_count": 6,
   "outputs": [
    {
     "name": "stdout",
     "output_type": "stream",
     "text": [
      "<tf.Variable 'kernel:0' shape=(8, 10) dtype=float32, numpy=\n",
      "array([[-0.24405748,  0.28614718,  0.5406493 , -0.30222824, -0.31411415,\n",
      "         0.20628798,  0.3015111 ,  0.00452763, -0.16958264,  0.16370559],\n",
      "       [-0.4316275 , -0.00383484,  0.1301375 , -0.00497335,  0.35229963,\n",
      "        -0.533169  , -0.5395323 , -0.38931373,  0.37550664,  0.11691719],\n",
      "       [ 0.48825824, -0.5137391 ,  0.09484595,  0.17481089, -0.07436872,\n",
      "        -0.34214374, -0.45051283,  0.17555529,  0.17630273,  0.33806115],\n",
      "       [-0.39855343, -0.4161104 ,  0.04913497, -0.0080325 , -0.26898718,\n",
      "        -0.31455696, -0.4873821 , -0.46886253, -0.5088423 ,  0.525043  ],\n",
      "       [-0.14787078, -0.4739742 ,  0.01502061, -0.3181085 , -0.511928  ,\n",
      "         0.56974995, -0.07310396, -0.5635974 ,  0.30465543,  0.12058783],\n",
      "       [-0.3865164 , -0.33317468, -0.39082003, -0.22275722,  0.31269085,\n",
      "         0.47852027,  0.355474  , -0.30767608,  0.22329861, -0.4574796 ],\n",
      "       [-0.2509699 , -0.57076806, -0.45308483,  0.08860171,  0.40422213,\n",
      "         0.14684707,  0.1785981 ,  0.44223142, -0.43579364, -0.55605906],\n",
      "       [-0.21928883, -0.20508903,  0.3072009 , -0.26306075,  0.08055764,\n",
      "        -0.22246471, -0.2545919 ,  0.2730915 ,  0.08745974,  0.1160211 ]],\n",
      "      dtype=float32)>\n",
      "(4, 10)\n",
      "(10,)\n"
     ]
    }
   ],
   "source": [
    "x=tf.random.normal([4,8])\n",
    "net=tf.keras.layers.Dense(10)\n",
    "net.build((4,8))\n",
    "print(net.kernel)  # 所使用的变换举证\n",
    "print(net(x).shape)\n",
    "print(net.bias.shape)"
   ],
   "metadata": {
    "collapsed": false,
    "pycharm": {
     "name": "#%%\n"
    }
   }
  },
  {
   "cell_type": "markdown",
   "source": [
    "3、索引与切片\n"
   ],
   "metadata": {
    "collapsed": false,
    "pycharm": {
     "name": "#%% md\n"
    }
   }
  },
  {
   "cell_type": "code",
   "execution_count": 7,
   "outputs": [
    {
     "name": "stdout",
     "output_type": "stream",
     "text": [
      "tf.Tensor([3 1], shape=(2,), dtype=int32)\n"
     ]
    }
   ],
   "source": [
    "a=tf.range(4)\n",
    "a1=a[3::-2]\n",
    "print(a1)\n"
   ],
   "metadata": {
    "collapsed": false,
    "pycharm": {
     "name": "#%%\n"
    }
   }
  },
  {
   "cell_type": "code",
   "execution_count": 8,
   "outputs": [
    {
     "name": "stdout",
     "output_type": "stream",
     "text": [
      "tf.Tensor([0 3], shape=(2,), dtype=int32)\n"
     ]
    }
   ],
   "source": [
    "b=tf.gather(a,indices=[0,3])\n",
    "print(b)"
   ],
   "metadata": {
    "collapsed": false,
    "pycharm": {
     "name": "#%%\n"
    }
   }
  },
  {
   "cell_type": "markdown",
   "source": [
    "维度变换"
   ],
   "metadata": {
    "collapsed": false,
    "pycharm": {
     "name": "#%% md\n"
    }
   }
  },
  {
   "cell_type": "code",
   "execution_count": 9,
   "outputs": [
    {
     "name": "stdout",
     "output_type": "stream",
     "text": [
      "(4, 28, 28, 3, 1)\n",
      "(2, 3)\n",
      "(2, 3, 1, 1)\n"
     ]
    }
   ],
   "source": [
    "a=tf.ones([4,28,28,3])\n",
    "print(tf.expand_dims(a,axis=-1).shape)\n",
    "b=tf.ones([1,2,3,1,1])\n",
    "print(tf.squeeze(b).shape)\n",
    "print(tf.squeeze(b,axis=0).shape)"
   ],
   "metadata": {
    "collapsed": false,
    "pycharm": {
     "name": "#%% data\n"
    }
   }
  },
  {
   "cell_type": "markdown",
   "source": [
    "broadCast 广播\n"
   ],
   "metadata": {
    "collapsed": false,
    "pycharm": {
     "name": "#%% md\n"
    }
   }
  },
  {
   "cell_type": "code",
   "execution_count": 10,
   "outputs": [],
   "source": [
    "import sys"
   ],
   "metadata": {
    "collapsed": false,
    "pycharm": {
     "name": "#%%\n"
    }
   }
  },
  {
   "cell_type": "code",
   "execution_count": 11,
   "outputs": [
    {
     "name": "stdout",
     "output_type": "stream",
     "text": [
      "168\n",
      "168\n"
     ]
    }
   ],
   "source": [
    "a=tf.ones([3,4])\n",
    "a1=tf.broadcast_to(a,[2,3,4])\n",
    "print(sys.getsizeof(a1))\n",
    "a2=tf.expand_dims(a,axis=0)\n",
    "a2=tf.tile(a2,[2,1,1])\n",
    "print(sys.getsizeof(a2))"
   ],
   "metadata": {
    "collapsed": false,
    "pycharm": {
     "name": "#%%\n"
    }
   }
  }
 ],
 "metadata": {
  "kernelspec": {
   "name": "pycharm-368948a5",
   "language": "python",
   "display_name": "PyCharm (opencv)"
  },
  "language_info": {
   "codemirror_mode": {
    "name": "ipython",
    "version": 2
   },
   "file_extension": ".py",
   "mimetype": "text/x-python",
   "name": "python",
   "nbconvert_exporter": "python",
   "pygments_lexer": "ipython2",
   "version": "2.7.6"
  }
 },
 "nbformat": 4,
 "nbformat_minor": 0
}