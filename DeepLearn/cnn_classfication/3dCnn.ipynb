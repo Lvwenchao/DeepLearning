{
 "cells": [
  {
   "cell_type": "code",
   "execution_count": 9,
   "metadata": {
    "collapsed": true
   },
   "outputs": [],
   "source": [
    "from os.path import dirname,join as pjoin\n",
    "import scipy.io as sio"
   ]
  },
  {
   "cell_type": "code",
   "execution_count": 10,
   "outputs": [],
   "source": [
    "data_dir=r'E:\\pythonProject\\DeepLearning\\resources\\data'\n",
    "indian_filename=pjoin(data_dir,'Indian_pines.mat')\n",
    "truth_filename=pjoin(data_dir,'Indian_pines_gt.mat')\n",
    "\n",
    "input_data=sio.loadmat(indian_filename)['indian_pines']\n",
    "truth_data=sio.loadmat(truth_filename)['indian_pines_gt']\n"
   ],
   "metadata": {
    "collapsed": false,
    "pycharm": {
     "name": "#%%\n"
    }
   }
  },
  {
   "cell_type": "code",
   "execution_count": 11,
   "outputs": [
    {
     "name": "stdout",
     "output_type": "stream",
     "text": [
      "data: (145, 145, 220) (145, 145)\n"
     ]
    }
   ],
   "source": [
    "print(\"data:\",input_data.shape,truth_data.shape)"
   ],
   "metadata": {
    "collapsed": false,
    "pycharm": {
     "name": "#%%\n"
    }
   }
  }
 ],
 "metadata": {
  "kernelspec": {
   "name": "pycharm-368948a5",
   "language": "python",
   "display_name": "PyCharm (opencv)"
  },
  "language_info": {
   "codemirror_mode": {
    "name": "ipython",
    "version": 2
   },
   "file_extension": ".py",
   "mimetype": "text/x-python",
   "name": "python",
   "nbconvert_exporter": "python",
   "pygments_lexer": "ipython2",
   "version": "2.7.6"
  }
 },
 "nbformat": 4,
 "nbformat_minor": 0
}