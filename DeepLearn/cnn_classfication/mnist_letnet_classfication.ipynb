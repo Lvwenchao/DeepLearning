{
 "cells": [
  {
   "cell_type": "code",
   "execution_count": 1,
   "metadata": {
    "collapsed": true
   },
   "outputs": [],
   "source": [
    "import tensorflow as tf\n",
    "from DeepLearn.tools.models import LetNet\n",
    "from tensorflow import keras\n",
    "from DeepLearn.tools.loadData import DataSets"
   ]
  },
  {
   "cell_type": "code",
   "execution_count": 2,
   "outputs": [
    {
     "name": "stdout",
     "output_type": "stream",
     "text": [
      "data: train (50000, 32, 32, 3) (50000, 1) test: (10000, 32, 32, 3) (10000, 1)\n",
      "(128, 32, 32, 3) (128, 10)\n",
      "Model: \"let_net\"\n",
      "_________________________________________________________________\n",
      "Layer (type)                 Output Shape              Param #   \n",
      "=================================================================\n",
      "conv2d (Conv2D)              multiple                  456       \n",
      "_________________________________________________________________\n",
      "batch_normalization (BatchNo multiple                  24        \n",
      "_________________________________________________________________\n",
      "max_pooling2d (MaxPooling2D) multiple                  0         \n",
      "_________________________________________________________________\n",
      "re_lu (ReLU)                 multiple                  0         \n",
      "_________________________________________________________________\n",
      "conv2d_1 (Conv2D)            multiple                  2416      \n",
      "_________________________________________________________________\n",
      "batch_normalization_1 (Batch multiple                  64        \n",
      "_________________________________________________________________\n",
      "max_pooling2d_1 (MaxPooling2 multiple                  0         \n",
      "_________________________________________________________________\n",
      "re_lu_1 (ReLU)               multiple                  0         \n",
      "_________________________________________________________________\n",
      "flatten (Flatten)            multiple                  0         \n",
      "_________________________________________________________________\n",
      "dense (Dense)                multiple                  48120     \n",
      "_________________________________________________________________\n",
      "dense_1 (Dense)              multiple                  10164     \n",
      "_________________________________________________________________\n",
      "dense_2 (Dense)              multiple                  850       \n",
      "_________________________________________________________________\n",
      "softmax (Softmax)            multiple                  0         \n",
      "=================================================================\n",
      "Total params: 62,094\n",
      "Trainable params: 62,050\n",
      "Non-trainable params: 44\n",
      "_________________________________________________________________\n"
     ]
    }
   ],
   "source": [
    "batch_size = 128\n",
    "datasets=DataSets()\n",
    "train_data, val_data, test_data = datasets.load_data(\"mnist\",batch_size=128,classes=10)\n",
    "simple = next(iter(train_data))\n",
    "print(simple[0].shape, simple[1].shape)\n",
    "network = LetNet()\n",
    "network.build(input_shape=(None, 28, 28, 1))\n",
    "network.summary()\n",
    "criteom = tf.losses.CategoricalCrossentropy(from_logits=True)\n",
    "\n",
    "optimizer = keras.optimizers.Adam(0.001)"
   ],
   "metadata": {
    "collapsed": false,
    "pycharm": {
     "name": "#%% train data\n"
    }
   }
  },
  {
   "cell_type": "code",
   "execution_count": 3,
   "outputs": [
    {
     "name": "stdout",
     "output_type": "stream",
     "text": [
      "0 loss tf.Tensor(0.2696244, shape=(), dtype=float32)\n",
      "100 loss tf.Tensor(0.08992202, shape=(), dtype=float32)\n",
      "200 loss tf.Tensor(0.16181095, shape=(), dtype=float32)\n",
      "300 loss tf.Tensor(0.19432002, shape=(), dtype=float32)\n",
      "0 accuracy 0.147\n",
      "0 loss tf.Tensor(0.19151786, shape=(), dtype=float32)\n",
      "100 loss tf.Tensor(0.20505904, shape=(), dtype=float32)\n",
      "200 loss tf.Tensor(0.23176742, shape=(), dtype=float32)\n",
      "300 loss tf.Tensor(0.29700026, shape=(), dtype=float32)\n",
      "1 accuracy 0.1225\n",
      "0 loss tf.Tensor(0.270865, shape=(), dtype=float32)\n",
      "100 loss tf.Tensor(0.1776624, shape=(), dtype=float32)\n",
      "200 loss tf.Tensor(0.19437039, shape=(), dtype=float32)\n",
      "300 loss tf.Tensor(0.25693804, shape=(), dtype=float32)\n",
      "2 accuracy 0.11563333333333334\n",
      "0 loss tf.Tensor(0.1614779, shape=(), dtype=float32)\n",
      "100 loss tf.Tensor(0.1843, shape=(), dtype=float32)\n",
      "200 loss tf.Tensor(0.15350199, shape=(), dtype=float32)\n",
      "300 loss tf.Tensor(0.18159501, shape=(), dtype=float32)\n",
      "3 accuracy 0.11165\n",
      "0 loss tf.Tensor(0.15069012, shape=(), dtype=float32)\n",
      "100 loss tf.Tensor(0.15970194, shape=(), dtype=float32)\n",
      "200 loss tf.Tensor(0.20337132, shape=(), dtype=float32)\n",
      "300 loss tf.Tensor(0.14742076, shape=(), dtype=float32)\n",
      "4 accuracy 0.11428\n"
     ]
    }
   ],
   "source": [
    "total_cor, total_num = 0, 0\n",
    "for epochs in range(5):\n",
    "    for step, (x, y) in enumerate(train_data):\n",
    "        x=tf.expand_dims(x,axis=3)\n",
    "        with tf.GradientTape() as tape:\n",
    "            out = network(x)\n",
    "            loss = criteom(y, out)\n",
    "\n",
    "        grads = tape.gradient(loss, network.trainable_variables)\n",
    "        optimizer.apply_gradients(zip(grads, network.trainable_variables))\n",
    "\n",
    "        if step % 100 == 0:\n",
    "            print(step, 'loss', loss)\n",
    "\n",
    "    for step, (x, y) in enumerate(val_data):\n",
    "        x=tf.expand_dims(x,axis=3)\n",
    "        prob = network(x)\n",
    "        pred = tf.argmax(prob, axis=-1)\n",
    "        y = tf.argmax(y, axis=-1)\n",
    "        collect = tf.reduce_sum(tf.cast(tf.equal(pred, y), dtype=tf.int32))\n",
    "        total_cor += collect\n",
    "        total_num += int(x.shape[0])\n",
    "\n",
    "    acc = float(total_cor / total_num)\n",
    "\n",
    "    print(epochs, \"accuracy\", acc)"
   ],
   "metadata": {
    "collapsed": false,
    "pycharm": {
     "name": "#%%\n"
    }
   }
  },
  {
   "cell_type": "markdown",
   "source": [
    "#### predict"
   ],
   "metadata": {
    "collapsed": false,
    "pycharm": {
     "name": "#%% md\n"
    }
   }
  },
  {
   "cell_type": "code",
   "execution_count": 25,
   "outputs": [
    {
     "name": "stdout",
     "output_type": "stream",
     "text": [
      "tf.Tensor(\n",
      "[[1.43610173e-08 1.32881555e-08 1.53555803e-03 3.48592937e-01\n",
      "  2.99212239e-12 1.17619763e-07 1.53156794e-08 8.70893579e-09\n",
      "  6.49871349e-01 2.83007129e-08]], shape=(1, 10), dtype=float32)\n"
     ]
    },
    {
     "data": {
      "text/plain": "(-0.5, 10.0)"
     },
     "execution_count": 25,
     "metadata": {},
     "output_type": "execute_result"
    },
    {
     "data": {
      "text/plain": "<Figure size 432x288 with 2 Axes>",
      "image/png": "[encoded data removed]"
     },
     "metadata": {
      "needs_background": "light"
     },
     "output_type": "display_data"
    }
   ],
   "source": [
    "import numpy as np\n",
    "import matplotlib.pyplot as plt\n",
    "from matplotlib.pyplot import MultipleLocator\n",
    "\n",
    "img = next(iter(test_data))\n",
    "img=img[0][0]\n",
    "plt.subplot(121),plt.imshow(img,'gray'),plt.xticks([]),plt.xticks()\n",
    "img=tf.expand_dims(img,axis=-1)\n",
    "img=tf.expand_dims(img,axis=0)\n",
    "prob=network(img)\n",
    "prob=tf.nn.softmax(prob,axis=-1)\n",
    "print(prob)\n",
    "\n",
    "# 显示概率柱状图\n",
    "x_major_locator=MultipleLocator(1)\n",
    "y_major_locator=MultipleLocator(0.1)\n",
    "plt.subplot(122),plt.bar(np.arange(10),prob[0]),plt.xlim((0,10))\n",
    "ax=plt.gca()\n",
    "ax.xaxis.set_major_locator(x_major_locator)\n",
    "plt.xlim((-0.5,10))\n"
   ],
   "metadata": {
    "collapsed": false,
    "pycharm": {
     "name": "#%%\n"
    }
   }
  },
  {
   "cell_type": "code",
   "execution_count": 4,
   "outputs": [
    {
     "name": "stdout",
     "output_type": "stream",
     "text": [
      "(128, 1024)\n"
     ]
    }
   ],
   "source": [
    "a=tf.random.normal([128,32,32,1])\n",
    "model=tf.keras.layers.Flatten()\n",
    "print(model(a).shape)"
   ],
   "metadata": {
    "collapsed": false,
    "pycharm": {
     "name": "#%%\n"
    }
   }
  }
 ],
 "metadata": {
  "kernelspec": {
   "name": "pycharm-368948a5",
   "language": "python",
   "display_name": "PyCharm (opencv)"
  },
  "language_info": {
   "codemirror_mode": {
    "name": "ipython",
    "version": 2
   },
   "file_extension": ".py",
   "mimetype": "text/x-python",
   "name": "python",
   "nbconvert_exporter": "python",
   "pygments_lexer": "ipython2",
   "version": "2.7.6"
  }
 },
 "nbformat": 4,
 "nbformat_minor": 0
}