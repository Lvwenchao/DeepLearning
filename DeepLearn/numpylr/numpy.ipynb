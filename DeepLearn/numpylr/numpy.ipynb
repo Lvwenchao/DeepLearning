{
 "cells": [
  {
   "cell_type": "code",
   "execution_count": 1,
   "metadata": {
    "collapsed": true
   },
   "outputs": [],
   "source": [
    "import numpy as np"
   ]
  },
  {
   "cell_type": "code",
   "execution_count": 4,
   "outputs": [
    {
     "name": "stdout",
     "output_type": "stream",
     "text": [
      "[[1. 2. 3. 4.]\n",
      " [1. 2. 3. 4.]]\n",
      "(2, 4) 8 float64\n"
     ]
    }
   ],
   "source": [
    "list1=[1,2]\n",
    "list2=[2,3]\n",
    "array1=np.array([list1,list1])\n",
    "print(array1)\n",
    "print(array1.shape,array1.size,array1.dtype)"
   ],
   "metadata": {
    "collapsed": false,
    "pycharm": {
     "name": "#%%\n"
    }
   }
  },
  {
   "cell_type": "markdown",
   "source": [
    "### 矩阵运算"
   ],
   "metadata": {
    "collapsed": false,
    "pycharm": {
     "name": "#%% md\n"
    }
   }
  },
  {
   "cell_type": "code",
   "execution_count": 14,
   "outputs": [
    {
     "name": "stdout",
     "output_type": "stream",
     "text": [
      "[[1 3 6 7 1]\n",
      " [7 7 5 9 9]\n",
      " [7 5 0 9 2]\n",
      " [2 9 4 1 7]\n",
      " [9 8 3 0 0]]\n",
      "[[0 0 8 2 7]\n",
      " [5 3 4 1 7]\n",
      " [3 7 0 5 4]\n",
      " [7 0 4 4 9]\n",
      " [8 0 6 3 9]]\n",
      "[[ 0  0 48 14  7]\n",
      " [35 21 20  9 63]\n",
      " [21 35  0 45  8]\n",
      " [14  0 16  4 63]\n",
      " [72  0 18  0  0]]\n",
      "[[ 90  51  54  66 124]\n",
      " [185  56 174 109 280]\n",
      " [104  15 124  61 183]\n",
      " [120  55  98  58 165]\n",
      " [ 49  45 104  41 131]]\n",
      "[[ 90  51  54  66 124]\n",
      " [185  56 174 109 280]\n",
      " [104  15 124  61 183]\n",
      " [120  55  98  58 165]\n",
      " [ 49  45 104  41 131]]\n"
     ]
    }
   ],
   "source": [
    "a = np.random.randint(10,size=25).reshape([5,5])\n",
    "print(a)\n",
    "b = np.random.randint(10,size=25).reshape([5,5])\n",
    "print(b)\n",
    "A  = np.mat(a)\n",
    "B = np.mat(b)\n",
    "print(a*b)\n",
    "print(a@b)\n",
    "print(A@B)"
   ],
   "metadata": {
    "collapsed": false,
    "pycharm": {
     "name": "#%%\n"
    }
   }
  }
 ],
 "metadata": {
  "kernelspec": {
   "name": "pycharm-368948a5",
   "language": "python",
   "display_name": "PyCharm (opencv)"
  },
  "language_info": {
   "codemirror_mode": {
    "name": "ipython",
    "version": 2
   },
   "file_extension": ".py",
   "mimetype": "text/x-python",
   "name": "python",
   "nbconvert_exporter": "python",
   "pygments_lexer": "ipython2",
   "version": "2.7.6"
  }
 },
 "nbformat": 4,
 "nbformat_minor": 0
}