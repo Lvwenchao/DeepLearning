{
 "cells": [
  {
   "cell_type": "markdown",
   "source": [
    "1.compute_loss() ---compute the loss accord different w and b,return loss\n",
    "2.update_w_b() --- update the arg of gradient descent\n",
    "3.gradient_runner --- iterator\n",
    "4.runner()"
   ],
   "metadata": {
    "collapsed": false,
    "pycharm": {
     "name": "#%% md\n"
    }
   }
  },
  {
   "cell_type": "code",
   "execution_count": 1,
   "metadata": {
    "collapsed": true,
    "pycharm": {
     "name": "#%%\n"
    }
   },
   "outputs": [],
   "source": [
    "import numpy as np\n"
   ]
  },
  {
   "cell_type": "code",
   "execution_count": 2,
   "outputs": [],
   "source": [
    "def compute_loss(w,b,points):\n",
    "    totalError=0\n",
    "    for i in range(0,len(points)):\n",
    "        x=points[i,0]\n",
    "        y=points[i,1]\n",
    "        totalError+=(w*x+b-y)**2\n",
    "    totalError=totalError/len(points)\n",
    "    return totalError"
   ],
   "metadata": {
    "collapsed": false,
    "pycharm": {
     "name": "#%%\n"
    }
   }
  },
  {
   "cell_type": "code",
   "execution_count": 3,
   "outputs": [],
   "source": [
    "def update_w_b(w_starting,b_starting,lr,points):\n",
    "    w_gradient=0\n",
    "    b_gradient=0\n",
    "    for i in range(0,len(points)):\n",
    "        x=points[i,0]\n",
    "        y=points[i,1]\n",
    "        w_gradient+=2*x*(w_starting*x+b_starting-y)\n",
    "        b_gradient+=2*(w_starting*x+b_starting-y)\n",
    "    new_w=w_starting-lr*w_gradient\n",
    "    new_b=b_starting-lr*b_starting\n",
    "    return [new_w,new_b]"
   ],
   "metadata": {
    "collapsed": false,
    "pycharm": {
     "name": "#%%\n"
    }
   }
  },
  {
   "cell_type": "code",
   "execution_count": 4,
   "outputs": [],
   "source": [
    "def gradient_runner(iterNum,points,w_start,b_start,lr):\n",
    "    w=w_start\n",
    "    b=b_start\n",
    "    for i in range(iterNum):\n",
    "        w,b=update_w_b(w,b,lr,np.array(points))\n",
    "    return [w,b]\n"
   ],
   "metadata": {
    "collapsed": false,
    "pycharm": {
     "name": "#%%\n"
    }
   }
  },
  {
   "cell_type": "code",
   "execution_count": 7,
   "outputs": [],
   "source": [
    "def run():\n",
    "    points = np.loadtxt(r'E:\\pythonProject\\20200626\\resource\\data.csv', delimiter=',')\n",
    "    w_start = 0\n",
    "    b_start = 0\n",
    "    iterationNum = 1000\n",
    "    learning_rate = 0.0001\n",
    "    print(\"gradient decent at w={0},b={1},loss={2}\\n\"\n",
    "          .format(w_start, b_start, compute_loss(w_start, b_start, points)))\n",
    "    print(\"running....\\n\")\n",
    "    [w, b] = gradient_runner(iterationNum, points, w_start, b_start, learning_rate)\n",
    "    print(\"Result:w={0},b={1},loss={2}\\n\"\n",
    "          .format(w, b, compute_loss(w, b, points)))"
   ],
   "metadata": {
    "collapsed": false,
    "pycharm": {
     "name": "#%%\n"
    }
   }
  },
  {
   "cell_type": "code",
   "execution_count": 9,
   "outputs": [
    {
     "name": "stdout",
     "output_type": "stream",
     "text": [
      "gradient decent at w=0,b=0,loss=5565.107834483211\n",
      "\n",
      "running....\n",
      "\n",
      "Result:w=nan,b=0.0,loss=nan\n",
      "\n"
     ]
    },
    {
     "name": "stderr",
     "output_type": "stream",
     "text": [
      "d:\\programdata\\anaconda3\\envs\\tf-cpu\\lib\\site-packages\\ipykernel_launcher.py:7: RuntimeWarning: overflow encountered in double_scalars\n",
      "  import sys\n",
      "d:\\programdata\\anaconda3\\envs\\tf-cpu\\lib\\site-packages\\ipykernel_launcher.py:9: RuntimeWarning: invalid value encountered in double_scalars\n",
      "  if __name__ == '__main__':\n"
     ]
    }
   ],
   "source": [
    "run()\n",
    "\n",
    "\n"
   ],
   "metadata": {
    "collapsed": false,
    "pycharm": {
     "name": "#%%\n"
    }
   }
  }
 ],
 "metadata": {
  "kernelspec": {
   "display_name": "Python 3",
   "language": "python",
   "name": "python3"
  },
  "language_info": {
   "codemirror_mode": {
    "name": "ipython",
    "version": 2
   },
   "file_extension": ".py",
   "mimetype": "text/x-python",
   "name": "python",
   "nbconvert_exporter": "python",
   "pygments_lexer": "ipython2",
   "version": "2.7.6"
  }
 },
 "nbformat": 4,
 "nbformat_minor": 0
}