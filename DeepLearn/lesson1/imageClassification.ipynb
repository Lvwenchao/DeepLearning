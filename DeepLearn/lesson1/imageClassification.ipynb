{
 "cells": [
  {
   "cell_type": "code",
   "execution_count": 2,
   "outputs": [],
   "source": [
    "import tensorflow as tf\n",
    "from tensorflow.keras import datasets,layers,optimizers"
   ],
   "metadata": {
    "collapsed": false,
    "pycharm": {
     "name": "#%%\n"
    }
   }
  },
  {
   "cell_type": "code",
   "execution_count": 3,
   "outputs": [],
   "source": [
    "(x,y),_=datasets.mnist.load_data()\n",
    "x=tf.convert_to_tensor(x,dtype=tf.float32)\n",
    "y=tf.convert_to_tensor(y,dtype=tf.int32)\n",
    "train_data=tf.data.Dataset.from_tensor_slices((x,y)).batch(128)"
   ],
   "metadata": {
    "collapsed": false,
    "pycharm": {
     "name": "#%%\n"
    }
   }
  },
  {
   "cell_type": "code",
   "execution_count": 4,
   "outputs": [],
   "source": [
    "w1 = tf.Variable(tf.random.truncated_normal([784, 256],stddev=0.01))\n",
    "b1 = tf.Variable(tf.zeros([256]))\n",
    "w2 = tf.Variable(tf.random.truncated_normal([256, 128],stddev=0.01))\n",
    "b2 = tf.Variable(tf.zeros([128]))\n",
    "w3 = tf.Variable(tf.random.truncated_normal([128, 10],stddev=0.01))\n",
    "b3 = tf.Variable(tf.zeros([10]))\n",
    "lr = 1e-3"
   ],
   "metadata": {
    "collapsed": false,
    "pycharm": {
     "name": "#%%\n"
    }
   }
  },
  {
   "cell_type": "code",
   "execution_count": 10,
   "outputs": [
    {
     "name": "stdout",
     "output_type": "stream",
     "text": [
      "\n",
      "tf.Tensor(nan, shape=(), dtype=float32)\n",
      "tf.Tensor(nan, shape=(), dtype=float32)\n",
      "tf.Tensor(nan, shape=(), dtype=float32)\n",
      "tf.Tensor(nan, shape=(), dtype=float32)\n",
      "tf.Tensor(nan, shape=(), dtype=float32)\n",
      "tf.Tensor(nan, shape=(), dtype=float32)\n",
      "tf.Tensor(nan, shape=(), dtype=float32)\n",
      "tf.Tensor(nan, shape=(), dtype=float32)\n",
      "tf.Tensor(nan, shape=(), dtype=float32)\n",
      "tf.Tensor(nan, shape=(), dtype=float32)\n",
      "tf.Tensor(nan, shape=(), dtype=float32)\n",
      "tf.Tensor(nan, shape=(), dtype=float32)\n",
      "tf.Tensor(nan, shape=(), dtype=float32)\n",
      "tf.Tensor(nan, shape=(), dtype=float32)\n",
      "tf.Tensor(nan, shape=(), dtype=float32)\n",
      "tf.Tensor(nan, shape=(), dtype=float32)\n",
      "tf.Tensor(nan, shape=(), dtype=float32)\n",
      "tf.Tensor(nan, shape=(), dtype=float32)\n",
      "tf.Tensor(nan, shape=(), dtype=float32)\n",
      "tf.Tensor(nan, shape=(), dtype=float32)\n",
      "tf.Tensor(nan, shape=(), dtype=float32)\n",
      "tf.Tensor(nan, shape=(), dtype=float32)\n",
      "tf.Tensor(nan, shape=(), dtype=float32)\n",
      "tf.Tensor(nan, shape=(), dtype=float32)\n",
      "tf.Tensor(nan, shape=(), dtype=float32)\n",
      "tf.Tensor(nan, shape=(), dtype=float32)\n",
      "tf.Tensor(nan, shape=(), dtype=float32)\n",
      "tf.Tensor(nan, shape=(), dtype=float32)\n",
      "tf.Tensor(nan, shape=(), dtype=float32)\n",
      "tf.Tensor(nan, shape=(), dtype=float32)\n",
      "tf.Tensor(nan, shape=(), dtype=float32)\n",
      "tf.Tensor(nan, shape=(), dtype=float32)\n",
      "tf.Tensor(nan, shape=(), dtype=float32)\n",
      "tf.Tensor(nan, shape=(), dtype=float32)\n",
      "tf.Tensor(nan, shape=(), dtype=float32)\n",
      "tf.Tensor(nan, shape=(), dtype=float32)\n",
      "tf.Tensor(nan, shape=(), dtype=float32)\n",
      "tf.Tensor(nan, shape=(), dtype=float32)\n",
      "tf.Tensor(nan, shape=(), dtype=float32)\n",
      "tf.Tensor(nan, shape=(), dtype=float32)\n",
      "tf.Tensor(nan, shape=(), dtype=float32)\n",
      "tf.Tensor(nan, shape=(), dtype=float32)\n",
      "tf.Tensor(nan, shape=(), dtype=float32)\n",
      "tf.Tensor(nan, shape=(), dtype=float32)\n",
      "tf.Tensor(nan, shape=(), dtype=float32)\n",
      "tf.Tensor(nan, shape=(), dtype=float32)\n",
      "tf.Tensor(nan, shape=(), dtype=float32)\n",
      "tf.Tensor(nan, shape=(), dtype=float32)\n",
      "tf.Tensor(nan, shape=(), dtype=float32)\n",
      "tf.Tensor(nan, shape=(), dtype=float32)\n",
      "tf.Tensor(nan, shape=(), dtype=float32)\n",
      "tf.Tensor(nan, shape=(), dtype=float32)\n",
      "tf.Tensor(nan, shape=(), dtype=float32)\n",
      "tf.Tensor(nan, shape=(), dtype=float32)\n",
      "tf.Tensor(nan, shape=(), dtype=float32)\n",
      "tf.Tensor(nan, shape=(), dtype=float32)\n",
      "tf.Tensor(nan, shape=(), dtype=float32)\n",
      "tf.Tensor(nan, shape=(), dtype=float32)\n",
      "tf.Tensor(nan, shape=(), dtype=float32)\n"
     ]
    }
   ],
   "source": [
    "for epoch in range(10):\n",
    "    for step,(x,y) in enumerate(train_data):\n",
    "        x=tf.reshape(x,[-1,28*28])\n",
    "        with tf.GradientTape() as Tape:\n",
    "            h1=x@w1+b1\n",
    "            h1=tf.nn.relu(h1)\n",
    "            h2=h1@w2+b2\n",
    "            h2=tf.nn.relu(h2)\n",
    "            out=h2@w3+b3\n",
    "            y_oneHot=tf.one_hot(y,depth=10)\n",
    "            loss=tf.square(y_oneHot-out)\n",
    "            loss=tf.reduce_mean(loss)\n",
    "\n",
    "        grads=Tape.gradient(loss,[w1,b1,w2,b2,w3,b3])\n",
    "        w1.assign_sub(lr * grads[0])\n",
    "        b1.assign_sub(lr * grads[1])\n",
    "        w2.assign_sub(lr * grads[2])\n",
    "        b2.assign_sub(lr * grads[3])\n",
    "        w3.assign_sub(lr * grads[4])\n",
    "        b3.assign_sub(lr * grads[5])\n",
    "\n",
    "\n",
    "\n",
    "        if step%100==0:\n",
    "            print(epoch,step,'loss：',float(loss))"
   ],
   "metadata": {
    "collapsed": false,
    "pycharm": {
     "name": "#%%\n"
    }
   }
  }
 ],
 "metadata": {
  "kernelspec": {
   "name": "pycharm-368948a5",
   "language": "python",
   "display_name": "PyCharm (opencv)"
  },
  "language_info": {
   "codemirror_mode": {
    "name": "ipython",
    "version": 2
   },
   "file_extension": ".py",
   "mimetype": "text/x-python",
   "name": "python",
   "nbconvert_exporter": "python",
   "pygments_lexer": "ipython2",
   "version": "2.7.6"
  }
 },
 "nbformat": 4,
 "nbformat_minor": 0
}