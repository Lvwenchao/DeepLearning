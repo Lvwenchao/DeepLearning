{
 "cells": [
  {
   "cell_type": "code",
   "execution_count": 43,
   "outputs": [],
   "source": [
    "import tensorflow as tf\n",
    "from tensorflow.keras import datasets,layers,optimizers"
   ],
   "metadata": {
    "collapsed": false,
    "pycharm": {
     "name": "#%%\n"
    }
   }
  },
  {
   "cell_type": "code",
   "execution_count": 44,
   "outputs": [],
   "source": [
    "(x,y),_=datasets.mnist.load_data()\n",
    "x=tf.convert_to_tensor(x,dtype=tf.float32)\n",
    "y=tf.convert_to_tensor(y,dtype=tf.int32)\n",
    "train_data=tf.data.Dataset.from_tensor_slices((x,y)).batch(128)"
   ],
   "metadata": {
    "collapsed": false,
    "pycharm": {
     "name": "#%%\n"
    }
   }
  },
  {
   "cell_type": "code",
   "execution_count": 45,
   "outputs": [],
   "source": [
    "w1 = tf.Variable(tf.random.truncated_normal([784, 256],stddev=0.01))\n",
    "b1 = tf.Variable(tf.zeros([256]))\n",
    "w2 = tf.Variable(tf.random.truncated_normal([256, 128],stddev=0.01))\n",
    "b2 = tf.Variable(tf.zeros([128]))\n",
    "w3 = tf.Variable(tf.random.truncated_normal([128, 10],stddev=0.01))\n",
    "b3 = tf.Variable(tf.zeros([10]))\n",
    "lr = 1e-3"
   ],
   "metadata": {
    "collapsed": false,
    "pycharm": {
     "name": "#%%\n"
    }
   }
  },
  {
   "cell_type": "code",
   "execution_count": 46,
   "outputs": [
    {
     "name": "stdout",
     "output_type": "stream",
     "text": [
      "0 0 loss： 0.12872521579265594\n",
      "0 100 loss： 0.08018603920936584\n",
      "0 200 loss： 0.0666654109954834\n",
      "0 300 loss： 0.06073715537786484\n",
      "0 400 loss： 0.05786038190126419\n",
      "1 0 loss： 0.04891113564372063\n",
      "1 100 loss： 0.05076373741030693\n",
      "1 200 loss： 0.04477394372224808\n",
      "1 300 loss： 0.04410205036401749\n",
      "1 400 loss： 0.04614542797207832\n",
      "2 0 loss： 0.038330018520355225\n",
      "2 100 loss： 0.04150605574250221\n",
      "2 200 loss： 0.037015777081251144\n",
      "2 300 loss： 0.03845132514834404\n",
      "2 400 loss： 0.040589429438114166\n",
      "3 0 loss： 0.03353441134095192\n",
      "3 100 loss： 0.036583948880434036\n",
      "3 200 loss： 0.03265514224767685\n",
      "3 300 loss： 0.0352095402777195\n",
      "3 400 loss： 0.03692694753408432\n",
      "4 0 loss： 0.03046819195151329\n",
      "4 100 loss： 0.033217690885066986\n",
      "4 200 loss： 0.02950967475771904\n",
      "4 300 loss： 0.03287941589951515\n",
      "4 400 loss： 0.03426370769739151\n",
      "5 0 loss： 0.028208011761307716\n",
      "5 100 loss： 0.030643459409475327\n",
      "5 200 loss： 0.027032285928726196\n",
      "5 300 loss： 0.030988594517111778\n",
      "5 400 loss： 0.03215176984667778\n",
      "6 0 loss： 0.0264050904661417\n",
      "6 100 loss： 0.028576184064149857\n",
      "6 200 loss： 0.025005703791975975\n",
      "6 300 loss： 0.029353618621826172\n",
      "6 400 loss： 0.030438736081123352\n",
      "7 0 loss： 0.024891339242458344\n",
      "7 100 loss： 0.026854699477553368\n",
      "7 200 loss： 0.023345153778791428\n",
      "7 300 loss： 0.027947330847382545\n",
      "7 400 loss： 0.028952866792678833\n",
      "8 0 loss： 0.023592999204993248\n",
      "8 100 loss： 0.025393689051270485\n",
      "8 200 loss： 0.02198041044175625\n",
      "8 300 loss： 0.02674836479127407\n",
      "8 400 loss： 0.02771499752998352\n",
      "9 0 loss： 0.02250450849533081\n",
      "9 100 loss： 0.02418740652501583\n",
      "9 200 loss： 0.02083900384604931\n",
      "9 300 loss： 0.025674968957901\n",
      "9 400 loss： 0.026651620864868164\n"
     ]
    }
   ],
   "source": [
    "for epoch in range(10):\n",
    "    for step,(x,y) in enumerate(train_data):\n",
    "        x=tf.reshape(x,[-1,28*28])\n",
    "        with tf.GradientTape() as Tape:\n",
    "            h1=x@w1+b1\n",
    "            h1=tf.nn.relu(h1)\n",
    "            h2=h1@w2+b2\n",
    "            h2=tf.nn.relu(h2)\n",
    "            out=h2@w3+b3\n",
    "            y_oneHot=tf.one_hot(y,depth=10)\n",
    "            loss=tf.square(y_oneHot-out)\n",
    "            loss=tf.reduce_mean(loss)\n",
    "\n",
    "        grads=Tape.gradient(loss,[w1,b1,w2,b2,w3,b3])\n",
    "        w1.assign_sub(lr * grads[0])\n",
    "        b1.assign_sub(lr * grads[1])\n",
    "        w2.assign_sub(lr * grads[2])\n",
    "        b2.assign_sub(lr * grads[3])\n",
    "        w3.assign_sub(lr * grads[4])\n",
    "        b3.assign_sub(lr * grads[5])\n",
    "\n",
    "        if step%100==0:\n",
    "            print(epoch,step,'loss：',float(loss))\n"
   ],
   "metadata": {
    "collapsed": false,
    "pycharm": {
     "name": "#%%\n"
    }
   }
  }
 ],
 "metadata": {
  "kernelspec": {
   "display_name": "Python 3",
   "language": "python",
   "name": "python3"
  },
  "language_info": {
   "codemirror_mode": {
    "name": "ipython",
    "version": 2
   },
   "file_extension": ".py",
   "mimetype": "text/x-python",
   "name": "python",
   "nbconvert_exporter": "python",
   "pygments_lexer": "ipython2",
   "version": "2.7.6"
  }
 },
 "nbformat": 4,
 "nbformat_minor": 0
}